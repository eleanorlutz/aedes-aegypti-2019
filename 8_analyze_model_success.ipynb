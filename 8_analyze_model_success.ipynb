{
 "cells": [
  {
   "cell_type": "markdown",
   "metadata": {},
   "source": [
    "### Analyze Model Success\n",
    "#### List of tasks accomplished in this Jupyter Notebook:\n",
    "- Compare the amount of time (minutes) taken by each simulated strategy to find food\n",
    "- Compare the amount of time (% total) each search strategy simulation spent in areas of high toxin concentration\n",
    "- Compare simulations run using data from starved animals and data from fed animals: Foraging task\n",
    "- Compare simulations run using data from starved animals and data from fed animals: Toxin avoidance task"
   ]
  },
  {
   "cell_type": "code",
   "execution_count": 1,
   "metadata": {},
   "outputs": [],
   "source": [
    "import numpy as np\n",
    "import pandas as pd"
   ]
  },
  {
   "cell_type": "code",
   "execution_count": 2,
   "metadata": {},
   "outputs": [],
   "source": [
    "# DECLARE ALL OF THE FILE NAMES WE PLAN TO ANALYZE\n",
    "n_trials = 1000\n",
    "\n",
    "orthokinesis_fed = './data/simulation_results/'+str(n_trials)+'_simulations_orthokinesis_fed.csv'\n",
    "orthokinesis_str = './data/simulation_results/'+str(n_trials)+'_simulations_orthokinesis_starved.csv'\n",
    "orthokinesis_averse_fed = './data/simulation_results/'+str(n_trials)+'_simulations_orthokinesis_averse_fed.csv'\n",
    "orthokinesis_averse_str = './data/simulation_results/'+str(n_trials)+'_simulations_orthokinesis_averse_starved.csv'\n",
    "\n",
    "anosmic_fed = './data/simulation_results/'+str(n_trials)+'_simulations_anosmic_fed.csv'\n",
    "anosmic_str = './data/simulation_results/'+str(n_trials)+'_simulations_anosmic_starved.csv'\n",
    "anosmic_averse_fed = './data/simulation_results/'+str(n_trials)+'_simulations_anosmic_averse_fed.csv'\n",
    "anosmic_averse_str = './data/simulation_results/'+str(n_trials)+'_simulations_anosmic_averse_starved.csv'\n",
    "\n",
    "klinokinesis_fed = './data/simulation_results/'+str(n_trials)+'_simulations_klinokinesis_fed.csv'\n",
    "klinokinesis_str = './data/simulation_results/'+str(n_trials)+'_simulations_klinokinesis_starved.csv'\n",
    "klinokinesis_averse_fed = './data/simulation_results/'+str(n_trials)+'_simulations_klinokinesis_averse_fed.csv'\n",
    "klinokinesis_averse_str = './data/simulation_results/'+str(n_trials)+'_simulations_klinokinesis_averse_starved.csv'\n",
    "\n",
    "chemo_1_fed = './data/simulation_results/'+str(n_trials)+'_simulations_chemotaxis_1_fed.csv'\n",
    "chemo_1_str = './data/simulation_results/'+str(n_trials)+'_simulations_chemotaxis_1_starved.csv'\n",
    "chemo_1_averse_fed = './data/simulation_results/'+str(n_trials)+'_simulations_chemotaxis_averse_1_fed.csv'\n",
    "chemo_1_averse_str = './data/simulation_results/'+str(n_trials)+'_simulations_chemotaxis_averse_1_starved.csv'"
   ]
  },
  {
   "cell_type": "markdown",
   "metadata": {},
   "source": [
    "- Compare the amount of time (minutes) taken by each simulated strategy to find food"
   ]
  },
  {
   "cell_type": "code",
   "execution_count": 3,
   "metadata": {},
   "outputs": [
    {
     "name": "stdout",
     "output_type": "stream",
     "text": [
      "77.4543949074074 minutes to find food, orthokinesis\n",
      "2.8455768518518516 minutes to find food, chemotaxis 1%\n",
      "7.029187962962963 minutes to find food, klinokinesis\n",
      "12.008450925925926 minutes to find food, anosmic\n"
     ]
    }
   ],
   "source": [
    "str_df = pd.read_csv(orthokinesis_fed, index_col=None)\n",
    "widths = str_df.columns.astype(int).tolist()\n",
    "widths = [int(x) for x in widths]\n",
    "means = str_df.mean(axis=0).tolist()\n",
    "str_x, str_y = widths, means\n",
    "print(np.mean(means)/60, \"minutes to find food, orthokinesis\")\n",
    "\n",
    "str_df = pd.read_csv(chemo_1_fed, index_col=None)\n",
    "widths = str_df.columns.astype(int).tolist()\n",
    "widths = [int(x) for x in widths]\n",
    "means = str_df.mean(axis=0).tolist()\n",
    "str_x, str_y = widths, means\n",
    "print(np.mean(means)/60, \"minutes to find food, chemotaxis 1%\")\n",
    "\n",
    "str_df = pd.read_csv(klinokinesis_fed, index_col=None)\n",
    "widths = str_df.columns.astype(int).tolist()\n",
    "widths = [int(x) for x in widths]\n",
    "means = str_df.mean(axis=0).tolist()\n",
    "str_x, str_y = widths, means\n",
    "print(np.mean(means)/60, \"minutes to find food, klinokinesis\")\n",
    "\n",
    "str_df = pd.read_csv(anosmic_fed, index_col=None)\n",
    "widths = str_df.columns.astype(int).tolist()\n",
    "widths = [int(x) for x in widths]\n",
    "means = str_df.mean(axis=0).tolist()\n",
    "str_x, str_y = widths, means\n",
    "print(np.mean(means)/60, \"minutes to find food, anosmic\")"
   ]
  },
  {
   "cell_type": "markdown",
   "metadata": {},
   "source": [
    "- Compare the amount of time (% total) each search strategy simulation spent in areas of high toxin concentration"
   ]
  },
  {
   "cell_type": "code",
   "execution_count": 4,
   "metadata": {},
   "outputs": [
    {
     "name": "stdout",
     "output_type": "stream",
     "text": [
      "5.609526452090272 % time spent near poison across all habitat sizes, orthokinesis\n",
      "12.407291281292396 % time spent near poison across all habitat sizes, chemotaxis 1%\n",
      "22.45943396226415 % time spent near poison across all habitat sizes, klinokinesis\n",
      "23.986838697743256 % time spent near poison across all habitat sizes, anosmic\n"
     ]
    }
   ],
   "source": [
    "str_df = pd.read_csv(orthokinesis_averse_fed, index_col=None)\n",
    "widths = str_df.columns.astype(int).tolist()\n",
    "widths = [int(x) for x in widths]\n",
    "means = str_df.mean(axis=0).tolist()\n",
    "str_x, str_y = widths, means\n",
    "print(np.mean(means)*100, \"% time spent near poison across all habitat sizes, orthokinesis\")\n",
    "\n",
    "str_df = pd.read_csv(chemo_1_averse_fed, index_col=None)\n",
    "widths = str_df.columns.astype(int).tolist()\n",
    "widths = [int(x) for x in widths]\n",
    "means = str_df.mean(axis=0).tolist()\n",
    "str_x, str_y = widths, means\n",
    "print(np.mean(means)*100, \"% time spent near poison across all habitat sizes, chemotaxis 1%\")\n",
    "\n",
    "str_df = pd.read_csv(klinokinesis_averse_fed, index_col=None)\n",
    "widths = str_df.columns.astype(int).tolist()\n",
    "widths = [int(x) for x in widths]\n",
    "means = str_df.mean(axis=0).tolist()\n",
    "str_x, str_y = widths, means\n",
    "print(np.mean(means)*100, \"% time spent near poison across all habitat sizes, klinokinesis\")\n",
    "\n",
    "str_df = pd.read_csv(anosmic_averse_fed, index_col=None)\n",
    "widths = str_df.columns.astype(int).tolist()\n",
    "widths = [int(x) for x in widths]\n",
    "means = str_df.mean(axis=0).tolist()\n",
    "str_x, str_y = widths, means\n",
    "print(np.mean(means)*100, \"% time spent near poison across all habitat sizes, anosmic\")"
   ]
  },
  {
   "cell_type": "markdown",
   "metadata": {},
   "source": [
    "- Compare simulations run using data from starved animals and data from fed animals: Foraging task"
   ]
  },
  {
   "cell_type": "code",
   "execution_count": 5,
   "metadata": {},
   "outputs": [
    {
     "name": "stdout",
     "output_type": "stream",
     "text": [
      "EFFECT OF STARVATION STATE ON ORTHOKINESIS STRATEGY: APETITIVE TASK\n",
      "18 container sizes analyzed from 30 to 200 mm diameters\n",
      "Mean difference of 55.61105138888888 minutes across fed and starved animals\n"
     ]
    }
   ],
   "source": [
    "fed_df = pd.read_csv(orthokinesis_fed, index_col=None)\n",
    "widths = fed_df.columns.astype(int).tolist()\n",
    "widths = [int(x) for x in widths]\n",
    "means = fed_df.mean(axis=0).tolist()\n",
    "fed_x, fed_y = widths, means\n",
    "\n",
    "str_df = pd.read_csv(orthokinesis_str, index_col=None)\n",
    "widths = str_df.columns.astype(int).tolist()\n",
    "widths = [int(x) for x in widths]\n",
    "means = str_df.mean(axis=0).tolist()\n",
    "str_x, str_y = widths, means\n",
    "\n",
    "assert str_x == fed_x\n",
    "\n",
    "diffs = []\n",
    "for i, x in enumerate(fed_x):\n",
    "    diff = fed_y[i] - str_y[i]\n",
    "    diffs.append(diff)\n",
    "    \n",
    "print(\"EFFECT OF STARVATION STATE ON ORTHOKINESIS STRATEGY: APETITIVE TASK\")\n",
    "print(len(diffs), \"container sizes analyzed from\", min(fed_x), \"to\", max(fed_x), \"mm diameters\")\n",
    "print(\"Mean difference of\", np.mean(diffs)/60, \"minutes across fed and starved animals\")"
   ]
  },
  {
   "cell_type": "markdown",
   "metadata": {},
   "source": [
    "- Compare simulations run using data from starved animals and data from fed animals: Toxin avoidance task"
   ]
  },
  {
   "cell_type": "code",
   "execution_count": 6,
   "metadata": {},
   "outputs": [
    {
     "name": "stdout",
     "output_type": "stream",
     "text": [
      "EFFECT OF STARVATION STATE ON ORTHOKINESIS STRATEGY: AVERSIVE TASK\n",
      "18 container sizes analyzed from 30 to 200 mm diameters\n",
      "Mean difference of -1.0740627697619878 % across fed and starved animals\n"
     ]
    }
   ],
   "source": [
    "fed_df = pd.read_csv(orthokinesis_averse_fed, index_col=None)\n",
    "widths = fed_df.columns.astype(int).tolist()\n",
    "widths = [int(x) for x in widths]\n",
    "means = fed_df.mean(axis=0).tolist()\n",
    "fed_x, fed_y = widths, means\n",
    "\n",
    "str_df = pd.read_csv(orthokinesis_averse_str, index_col=None)\n",
    "widths = str_df.columns.astype(int).tolist()\n",
    "widths = [int(x) for x in widths]\n",
    "means = str_df.mean(axis=0).tolist()\n",
    "str_x, str_y = widths, means\n",
    "\n",
    "assert str_x == fed_x\n",
    "\n",
    "diffs = []\n",
    "for i, x in enumerate(fed_x):\n",
    "    diff = fed_y[i] - str_y[i]\n",
    "    diffs.append(diff)\n",
    "    \n",
    "print(\"EFFECT OF STARVATION STATE ON ORTHOKINESIS STRATEGY: AVERSIVE TASK\")\n",
    "print(len(diffs), \"container sizes analyzed from\", min(fed_x), \"to\", max(fed_x), \"mm diameters\")\n",
    "print(\"Mean difference of\", np.mean(diffs)*100, \"% across fed and starved animals\")"
   ]
  }
 ],
 "metadata": {
  "kernelspec": {
   "display_name": "Python 3",
   "language": "python",
   "name": "python3"
  },
  "language_info": {
   "codemirror_mode": {
    "name": "ipython",
    "version": 3
   },
   "file_extension": ".py",
   "mimetype": "text/x-python",
   "name": "python",
   "nbconvert_exporter": "python",
   "pygments_lexer": "ipython3",
   "version": "3.7.1"
  }
 },
 "nbformat": 4,
 "nbformat_minor": 2
}
