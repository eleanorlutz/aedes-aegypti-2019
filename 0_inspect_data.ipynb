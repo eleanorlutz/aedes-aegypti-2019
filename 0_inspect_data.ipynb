{
 "cells": [
  {
   "cell_type": "markdown",
   "metadata": {},
   "source": [
    "### Inspect data\n",
    "#### List of tasks accomplished in this Jupyter Notebook:\n",
    "- Remove dead larvae and experiments that were accidentally begun before the larval daylight cycle. \n",
    "- Convert experiment start time to number of minutes elapsed since light cycle ON time\n",
    "- Save cleaned dataset in a new `CSV` file. \n",
    "- Check that the number of fed and starved animals in each experiment adds up to the total number of animals. \n",
    "- Output the number of animals in each experiment (total) and the number of fed and starved animals for each experiment as a TXT file\n",
    "- Check that each experiment larva has one video HDF5 file and one folder"
   ]
  },
  {
   "cell_type": "code",
   "execution_count": null,
   "metadata": {},
   "outputs": [],
   "source": [
    "import numpy as np\n",
    "import pandas as pd\n",
    "import glob, os"
   ]
  },
  {
   "cell_type": "markdown",
   "metadata": {},
   "source": [
    "- Remove dead larvae and experiments that were accidentally begun before the larval daylight cycle. \n",
    "- Convert experiment start time to number of minutes elapsed since light cycle ON time\n",
    "- Save cleaned dataset in a new `CSV` file. "
   ]
  },
  {
   "cell_type": "code",
   "execution_count": null,
   "metadata": {},
   "outputs": [],
   "source": [
    "df = pd.read_csv('./data/experiment_IDs/static_data_naive.csv')\n",
    "print(len(df), \"total larvae experiments\")\n",
    "\n",
    "no_dead = df[df['dead'] == 'no'].copy()\n",
    "print(len(no_dead), \"larvae after removing dead larvae\")\n",
    "\n",
    "no_dead[\"start_hour\"] = pd.DatetimeIndex(no_dead['acclimate_start']).hour\n",
    "no_dead[\"start_min\"] = pd.DatetimeIndex(no_dead['acclimate_start']).minute\n",
    "\n",
    "# Remove experiments starting before 9am\n",
    "times = no_dead[no_dead[\"start_hour\"] >= 9]\n",
    "\n",
    "# Remove experiments starting after \n",
    "times = times[(times[\"start_hour\"] <= 9+11) | \\\n",
    "              ((times[\"start_hour\"] <= 9+12) & (times[\"start_min\"] <= 45))]\n",
    "print(len(times), \"larvae after removing experiments not during daylight\")\n",
    "\n",
    "times[\"minutes_past_L\"] = pd.to_datetime(\"2018-01-01\"+times[\"experiment_start\"], format=\"%Y-%m-%d%H:%M\")\n",
    "times[\"minutes_past_L\"] = times[\"minutes_past_L\"] - pd.to_datetime(\"2018-01-01-09:00:00\")\n",
    "times[\"minutes_past_L\"] = pd.DatetimeIndex(times[\"minutes_past_L\"]).hour * 60 + \\\n",
    "                            pd.DatetimeIndex(times[\"minutes_past_L\"]).minute\n",
    "\n",
    "times.to_csv(\"./data/experiment_IDs/cleaned_static_data.csv\", index=None)\n",
    "print(\"--- Data cleaned and saved to file ---\")"
   ]
  },
  {
   "cell_type": "markdown",
   "metadata": {},
   "source": [
    "- Check that the number of fed and starved animals in each experiment adds up to the total number of animals. \n",
    "- Output the number of animals in each experiment (total) and the number of fed and starved animals for each experiment as a TXT file"
   ]
  },
  {
   "cell_type": "code",
   "execution_count": null,
   "metadata": {},
   "outputs": [],
   "source": [
    "# READ IN CLEANED DATASET\n",
    "df = pd.read_csv(\"./data/experiment_IDs/cleaned_static_data.csv\")\n",
    "textfile = [str(len(df))+\" Total larvae in entire dataset\"]\n",
    "\n",
    "num_s = len(df[df[\"starved\"] == '1day'])\n",
    "num_f = len(df[df[\"starved\"] == 'no'])\n",
    "textfile.append(str(num_s)+\" Starved larvae in entire dataset\")\n",
    "textfile.append(str(num_f)+\" Fed larvae in entire dataset\")\n",
    "textfile.append('---')  \n",
    "\n",
    "# Check that number of fed and starved animals adds up to the total\n",
    "assert len(df) == num_s + num_f\n",
    "\n",
    "experiments = df[\"treatment_odor\"].unique()\n",
    "for experiment in experiments:\n",
    "    temp = df[df[\"treatment_odor\"] == experiment]\n",
    "    temp_starved = temp[temp[\"starved\"] == '1day']\n",
    "    temp_fed = temp[temp[\"starved\"] == 'no']\n",
    "    \n",
    "    # Check that number of fed and starved animals adds up to the total\n",
    "    assert len(temp) == len(temp_fed) + len(temp_starved)\n",
    "    \n",
    "    textfile.append(experiment.upper())\n",
    "    textfile.append(str(len(temp))+\" Total larvae\")\n",
    "    textfile.append(str(len(temp_starved))+\" Starved larvae\")\n",
    "    textfile.append(str(len(temp_fed))+\" Fed larvae\")\n",
    "    textfile.append('---')\n",
    "    \n",
    "text_df = pd.DataFrame(textfile)\n",
    "text_df.to_csv(\"./data/experiment_IDs/n_values.csv\", header=None, index=None)\n",
    "print(\"--- Data summary values saved to file ---\")"
   ]
  },
  {
   "cell_type": "markdown",
   "metadata": {},
   "source": [
    "- Check that each experiment larva has one video HDF5 file and one folder"
   ]
  },
  {
   "cell_type": "code",
   "execution_count": null,
   "metadata": {
    "scrolled": false
   },
   "outputs": [],
   "source": [
    "# READ IN CLEANED DATASET\n",
    "df = pd.read_csv(\"./data/experiment_IDs/cleaned_static_data.csv\")\n",
    "animals = df[\"animal_ID\"].values\n",
    "\n",
    "# Create folder names for each animal ID to use in checking\n",
    "df[\"acc_filenames\"] = \"./data/trajectories/analysis_files_reviewed/\"+df[\"animal_ID\"]+\"-acclimate\"\n",
    "df[\"exp_filenames\"] = \"./data/trajectories/analysis_files_reviewed/\"+df[\"animal_ID\"]+\"-experiment\"\n",
    "\n",
    "acc_fnames = df[\"acc_filenames\"].values\n",
    "exp_fnames = df[\"exp_filenames\"].values\n",
    "\n",
    "# Check that every animal ID is unique\n",
    "assert len(set(acc_fnames)) == len(acc_fnames)\n",
    "assert len(set(exp_fnames)) == len(exp_fnames)\n",
    "\n",
    "acc_folders = glob.glob('./data/trajectories/analysis_files_reviewed/*-acclimate')\n",
    "exp_folders = glob.glob('./data/trajectories/analysis_files_reviewed/*-experiment')\n",
    "\n",
    "# Convert filenames to animal IDs for comparison\n",
    "acc_folders_str = [x.split(\"reviewed/\")[-1].split(\"reviewed\\\\\")[-1].split(\"-acclimate\")[0] for x in acc_folders]\n",
    "exp_folders_str = [x.split(\"reviewed/\")[-1].split(\"reviewed\\\\\")[-1].split(\"-experiment\")[0] for x in exp_folders]\n",
    "\n",
    "# Check that each animal has 1 and only 1 folder associated with the animal\n",
    "assert sorted(animals) == sorted(acc_folders_str)\n",
    "assert sorted(animals) == sorted(exp_folders_str)\n",
    "\n",
    "acc_hdf5 = glob.glob('./data/trajectories/analysis_files_reviewed/*-acclimate/data/*.hdf5')\n",
    "exp_hdf5 = glob.glob('./data/trajectories/analysis_files_reviewed/*-experiment/data/*.hdf5')\n",
    "\n",
    "# Convert filenames to animal IDs for comparison\n",
    "acc_hdf5_str = [x.split(\"reviewed/\")[-1].split(\"reviewed\\\\\")[-1].split(\"-acclimate\")[0] for x in acc_hdf5]\n",
    "exp_hdf5_str = [x.split(\"reviewed/\")[-1].split(\"reviewed\\\\\")[-1].split(\"-experiment\")[0] for x in exp_hdf5]\n",
    "\n",
    "# Check that each animal has 1 and only 1 hdf5 file associated with the folder\n",
    "assert sorted(animals) == sorted(acc_hdf5_str)\n",
    "assert sorted(animals) == sorted(exp_hdf5_str)\n",
    "\n",
    "print(\"--- All checks passed ---\")"
   ]
  },
  {
   "cell_type": "code",
   "execution_count": null,
   "metadata": {},
   "outputs": [],
   "source": [
    "# CHECK THAT MANUALLY ANNOTATED FILES ALL EXIST AND ARE SPELLED CORRECTLY\n",
    "df = pd.read_csv(\"./data/trajectories/manually_checked_beginning_pause.csv\")\n",
    "\n",
    "for name in df[\"filename\"].values:\n",
    "    fname = \"./data/trajectories/video_csvs/\"+name+\".csv\"\n",
    "    if not os.path.isfile(fname):\n",
    "        print(fname)\n",
    "        \n",
    "print(\"--- All checks passed ---\")"
   ]
  },
  {
   "cell_type": "code",
   "execution_count": null,
   "metadata": {},
   "outputs": [],
   "source": []
  }
 ],
 "metadata": {
  "kernelspec": {
   "display_name": "Python 3",
   "language": "python",
   "name": "python3"
  },
  "language_info": {
   "codemirror_mode": {
    "name": "ipython",
    "version": 3
   },
   "file_extension": ".py",
   "mimetype": "text/x-python",
   "name": "python",
   "nbconvert_exporter": "python",
   "pygments_lexer": "ipython3",
   "version": "3.7.1"
  }
 },
 "nbformat": 4,
 "nbformat_minor": 2
}
