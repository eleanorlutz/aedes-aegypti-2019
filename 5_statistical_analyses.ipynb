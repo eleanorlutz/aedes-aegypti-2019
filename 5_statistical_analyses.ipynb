{
 "cells": [
  {
   "cell_type": "markdown",
   "metadata": {},
   "source": [
    "### Statistical Analyses\n",
    "#### List of tasks accomplished in this Jupyter Notebook:\n",
    "- Print out the n values for each treatment for reference\n",
    "- Compare physiological (length) differences between males, females, and fed vs starved larvae\n",
    "- Compare larval activity to time of day\n",
    "- Compare differences between fed and starved larvae in behavioral metrics\n",
    "- Calculate the preference value for each stimulus for both fed and starved larvae\n",
    "- Compare behavioral metrics for neutral, aversive, and appetitive cues\n",
    "- Compare the effect of larval presence on dye diffusion over time\n",
    "- Assess fit of the regression line used to fit distance to concentration for simulations\n",
    "- Adjust all tests using the Holm-Bonferroni correction"
   ]
  },
  {
   "cell_type": "code",
   "execution_count": 1,
   "metadata": {},
   "outputs": [
    {
     "data": {
      "text/plain": [
       "               _                           \n",
       "platform       x86_64-apple-darwin13.4.0   \n",
       "arch           x86_64                      \n",
       "os             darwin13.4.0                \n",
       "system         x86_64, darwin13.4.0        \n",
       "status                                     \n",
       "major          3                           \n",
       "minor          6.0                         \n",
       "year           2019                        \n",
       "month          04                          \n",
       "day            26                          \n",
       "svn rev        76424                       \n",
       "language       R                           \n",
       "version.string R version 3.6.0 (2019-04-26)\n",
       "nickname       Planting of a Tree          "
      ]
     },
     "metadata": {},
     "output_type": "display_data"
    }
   ],
   "source": [
    "R.version # print R version for reference\n",
    "\n",
    "setwd(\"/Users/ghost/Documents/Gitrepos/aedes-aegypti-2020/2019_data\")\n",
    "data <- read.csv('./data/trajectories/summary/cleaned_animal_analyses.csv')\n",
    "\n",
    "data$A_starved <- as.factor(data$A_starved)\n",
    "data$A_treatment_odor <- as.factor(data$A_treatment_odor)\n",
    "data$A_sex <- as.factor(data$A_sex)\n",
    "\n",
    "method_n <- \"holm\""
   ]
  },
  {
   "cell_type": "code",
   "execution_count": 2,
   "metadata": {},
   "outputs": [
    {
     "name": "stdout",
     "output_type": "stream",
     "text": [
      "Starved larvae:"
     ]
    },
    {
     "data": {
      "text/html": [
       "<table>\n",
       "<thead><tr><th scope=col>Var1</th><th scope=col>Freq</th></tr></thead>\n",
       "<tbody>\n",
       "\t<tr><td>naive_100ul_left_amino_acids   </td><td>23                             </td></tr>\n",
       "\t<tr><td>naive_100ul_left_food_05percent</td><td>32                             </td></tr>\n",
       "\t<tr><td>naive_100ul_left_food_extract  </td><td>19                             </td></tr>\n",
       "\t<tr><td>naive_100ul_left_glucose_10gL  </td><td>20                             </td></tr>\n",
       "\t<tr><td>naive_100ul_left_indole_100uM  </td><td>20                             </td></tr>\n",
       "\t<tr><td>naive_100ul_left_indole_10mM   </td><td>19                             </td></tr>\n",
       "\t<tr><td>naive_100ul_left_milliQ_water  </td><td>16                             </td></tr>\n",
       "\t<tr><td>naive_100ul_left_o-cresol_100uM</td><td>25                             </td></tr>\n",
       "\t<tr><td>naive_100ul_left_quinine_10mM  </td><td>19                             </td></tr>\n",
       "\t<tr><td>naive_100ul_left_yeastRNA_1gL  </td><td>18                             </td></tr>\n",
       "</tbody>\n",
       "</table>\n"
      ],
      "text/latex": [
       "\\begin{tabular}{r|ll}\n",
       " Var1 & Freq\\\\\n",
       "\\hline\n",
       "\t naive\\_100ul\\_left\\_amino\\_acids    & 23                                     \\\\\n",
       "\t naive\\_100ul\\_left\\_food\\_05percent & 32                                     \\\\\n",
       "\t naive\\_100ul\\_left\\_food\\_extract   & 19                                     \\\\\n",
       "\t naive\\_100ul\\_left\\_glucose\\_10gL   & 20                                     \\\\\n",
       "\t naive\\_100ul\\_left\\_indole\\_100uM   & 20                                     \\\\\n",
       "\t naive\\_100ul\\_left\\_indole\\_10mM    & 19                                     \\\\\n",
       "\t naive\\_100ul\\_left\\_milliQ\\_water   & 16                                     \\\\\n",
       "\t naive\\_100ul\\_left\\_o-cresol\\_100uM & 25                                     \\\\\n",
       "\t naive\\_100ul\\_left\\_quinine\\_10mM   & 19                                     \\\\\n",
       "\t naive\\_100ul\\_left\\_yeastRNA\\_1gL   & 18                                     \\\\\n",
       "\\end{tabular}\n"
      ],
      "text/markdown": [
       "\n",
       "| Var1 | Freq |\n",
       "|---|---|\n",
       "| naive_100ul_left_amino_acids    | 23                              |\n",
       "| naive_100ul_left_food_05percent | 32                              |\n",
       "| naive_100ul_left_food_extract   | 19                              |\n",
       "| naive_100ul_left_glucose_10gL   | 20                              |\n",
       "| naive_100ul_left_indole_100uM   | 20                              |\n",
       "| naive_100ul_left_indole_10mM    | 19                              |\n",
       "| naive_100ul_left_milliQ_water   | 16                              |\n",
       "| naive_100ul_left_o-cresol_100uM | 25                              |\n",
       "| naive_100ul_left_quinine_10mM   | 19                              |\n",
       "| naive_100ul_left_yeastRNA_1gL   | 18                              |\n",
       "\n"
      ],
      "text/plain": [
       "   Var1                            Freq\n",
       "1  naive_100ul_left_amino_acids    23  \n",
       "2  naive_100ul_left_food_05percent 32  \n",
       "3  naive_100ul_left_food_extract   19  \n",
       "4  naive_100ul_left_glucose_10gL   20  \n",
       "5  naive_100ul_left_indole_100uM   20  \n",
       "6  naive_100ul_left_indole_10mM    19  \n",
       "7  naive_100ul_left_milliQ_water   16  \n",
       "8  naive_100ul_left_o-cresol_100uM 25  \n",
       "9  naive_100ul_left_quinine_10mM   19  \n",
       "10 naive_100ul_left_yeastRNA_1gL   18  "
      ]
     },
     "metadata": {},
     "output_type": "display_data"
    },
    {
     "data": {
      "text/html": [
       "<table>\n",
       "<thead><tr><th scope=col>Var1</th><th scope=col>Freq</th></tr></thead>\n",
       "<tbody>\n",
       "\t<tr><td>f  </td><td> 89</td></tr>\n",
       "\t<tr><td>m  </td><td>122</td></tr>\n",
       "</tbody>\n",
       "</table>\n"
      ],
      "text/latex": [
       "\\begin{tabular}{r|ll}\n",
       " Var1 & Freq\\\\\n",
       "\\hline\n",
       "\t f   &  89\\\\\n",
       "\t m   & 122\\\\\n",
       "\\end{tabular}\n"
      ],
      "text/markdown": [
       "\n",
       "| Var1 | Freq |\n",
       "|---|---|\n",
       "| f   |  89 |\n",
       "| m   | 122 |\n",
       "\n"
      ],
      "text/plain": [
       "  Var1 Freq\n",
       "1 f     89 \n",
       "2 m    122 "
      ]
     },
     "metadata": {},
     "output_type": "display_data"
    },
    {
     "name": "stdout",
     "output_type": "stream",
     "text": [
      "Fed larvae:"
     ]
    },
    {
     "data": {
      "text/html": [
       "<table>\n",
       "<thead><tr><th scope=col>Var1</th><th scope=col>Freq</th></tr></thead>\n",
       "<tbody>\n",
       "\t<tr><td>naive_100ul_left_amino_acids   </td><td>23                             </td></tr>\n",
       "\t<tr><td>naive_100ul_left_food_05percent</td><td>57                             </td></tr>\n",
       "\t<tr><td>naive_100ul_left_food_extract  </td><td>19                             </td></tr>\n",
       "\t<tr><td>naive_100ul_left_glucose_10gL  </td><td>17                             </td></tr>\n",
       "\t<tr><td>naive_100ul_left_indole_100uM  </td><td>36                             </td></tr>\n",
       "\t<tr><td>naive_100ul_left_indole_10mM   </td><td>17                             </td></tr>\n",
       "\t<tr><td>naive_100ul_left_milliQ_water  </td><td>39                             </td></tr>\n",
       "\t<tr><td>naive_100ul_left_o-cresol_100uM</td><td>36                             </td></tr>\n",
       "\t<tr><td>naive_100ul_left_quinine_10mM  </td><td>24                             </td></tr>\n",
       "\t<tr><td>naive_100ul_left_yeastRNA_1gL  </td><td>20                             </td></tr>\n",
       "</tbody>\n",
       "</table>\n"
      ],
      "text/latex": [
       "\\begin{tabular}{r|ll}\n",
       " Var1 & Freq\\\\\n",
       "\\hline\n",
       "\t naive\\_100ul\\_left\\_amino\\_acids    & 23                                     \\\\\n",
       "\t naive\\_100ul\\_left\\_food\\_05percent & 57                                     \\\\\n",
       "\t naive\\_100ul\\_left\\_food\\_extract   & 19                                     \\\\\n",
       "\t naive\\_100ul\\_left\\_glucose\\_10gL   & 17                                     \\\\\n",
       "\t naive\\_100ul\\_left\\_indole\\_100uM   & 36                                     \\\\\n",
       "\t naive\\_100ul\\_left\\_indole\\_10mM    & 17                                     \\\\\n",
       "\t naive\\_100ul\\_left\\_milliQ\\_water   & 39                                     \\\\\n",
       "\t naive\\_100ul\\_left\\_o-cresol\\_100uM & 36                                     \\\\\n",
       "\t naive\\_100ul\\_left\\_quinine\\_10mM   & 24                                     \\\\\n",
       "\t naive\\_100ul\\_left\\_yeastRNA\\_1gL   & 20                                     \\\\\n",
       "\\end{tabular}\n"
      ],
      "text/markdown": [
       "\n",
       "| Var1 | Freq |\n",
       "|---|---|\n",
       "| naive_100ul_left_amino_acids    | 23                              |\n",
       "| naive_100ul_left_food_05percent | 57                              |\n",
       "| naive_100ul_left_food_extract   | 19                              |\n",
       "| naive_100ul_left_glucose_10gL   | 17                              |\n",
       "| naive_100ul_left_indole_100uM   | 36                              |\n",
       "| naive_100ul_left_indole_10mM    | 17                              |\n",
       "| naive_100ul_left_milliQ_water   | 39                              |\n",
       "| naive_100ul_left_o-cresol_100uM | 36                              |\n",
       "| naive_100ul_left_quinine_10mM   | 24                              |\n",
       "| naive_100ul_left_yeastRNA_1gL   | 20                              |\n",
       "\n"
      ],
      "text/plain": [
       "   Var1                            Freq\n",
       "1  naive_100ul_left_amino_acids    23  \n",
       "2  naive_100ul_left_food_05percent 57  \n",
       "3  naive_100ul_left_food_extract   19  \n",
       "4  naive_100ul_left_glucose_10gL   17  \n",
       "5  naive_100ul_left_indole_100uM   36  \n",
       "6  naive_100ul_left_indole_10mM    17  \n",
       "7  naive_100ul_left_milliQ_water   39  \n",
       "8  naive_100ul_left_o-cresol_100uM 36  \n",
       "9  naive_100ul_left_quinine_10mM   24  \n",
       "10 naive_100ul_left_yeastRNA_1gL   20  "
      ]
     },
     "metadata": {},
     "output_type": "display_data"
    },
    {
     "data": {
      "text/html": [
       "<table>\n",
       "<thead><tr><th scope=col>Var1</th><th scope=col>Freq</th></tr></thead>\n",
       "<tbody>\n",
       "\t<tr><td>f  </td><td>135</td></tr>\n",
       "\t<tr><td>m  </td><td>153</td></tr>\n",
       "</tbody>\n",
       "</table>\n"
      ],
      "text/latex": [
       "\\begin{tabular}{r|ll}\n",
       " Var1 & Freq\\\\\n",
       "\\hline\n",
       "\t f   & 135\\\\\n",
       "\t m   & 153\\\\\n",
       "\\end{tabular}\n"
      ],
      "text/markdown": [
       "\n",
       "| Var1 | Freq |\n",
       "|---|---|\n",
       "| f   | 135 |\n",
       "| m   | 153 |\n",
       "\n"
      ],
      "text/plain": [
       "  Var1 Freq\n",
       "1 f    135 \n",
       "2 m    153 "
      ]
     },
     "metadata": {},
     "output_type": "display_data"
    }
   ],
   "source": [
    "# Print out the n values for each treatment for reference\n",
    "\n",
    "cat(\"Starved larvae:\")\n",
    "sub <- subset(data, A_starved==\"1day\")\n",
    "data.frame(table(sub$A_treatment_odor))\n",
    "\n",
    "sub <- subset(data, A_starved==\"1day\")\n",
    "data.frame(table(sub$A_sex))\n",
    "\n",
    "cat(\"Fed larvae:\")\n",
    "sub <- subset(data, A_starved==\"no\")\n",
    "data.frame(table(sub$A_treatment_odor))\n",
    "\n",
    "sub <- subset(data, A_starved==\"no\")\n",
    "data.frame(table(sub$A_sex))"
   ]
  },
  {
   "cell_type": "code",
   "execution_count": 3,
   "metadata": {},
   "outputs": [
    {
     "data": {
      "text/html": [
       "'TRUE/FALSE: Data queried has a normal distribution'"
      ],
      "text/latex": [
       "'TRUE/FALSE: Data queried has a normal distribution'"
      ],
      "text/markdown": [
       "'TRUE/FALSE: Data queried has a normal distribution'"
      ],
      "text/plain": [
       "[1] \"TRUE/FALSE: Data queried has a normal distribution\""
      ]
     },
     "metadata": {},
     "output_type": "display_data"
    },
    {
     "data": {
      "text/html": [
       "'All tests must be TRUE to use statistical tests that assume normality'"
      ],
      "text/latex": [
       "'All tests must be TRUE to use statistical tests that assume normality'"
      ],
      "text/markdown": [
       "'All tests must be TRUE to use statistical tests that assume normality'"
      ],
      "text/plain": [
       "[1] \"All tests must be TRUE to use statistical tests that assume normality\""
      ]
     },
     "metadata": {},
     "output_type": "display_data"
    },
    {
     "data": {
      "text/html": [
       "TRUE"
      ],
      "text/latex": [
       "TRUE"
      ],
      "text/markdown": [
       "TRUE"
      ],
      "text/plain": [
       "[1] TRUE"
      ]
     },
     "metadata": {},
     "output_type": "display_data"
    },
    {
     "data": {
      "text/html": [
       "FALSE"
      ],
      "text/latex": [
       "FALSE"
      ],
      "text/markdown": [
       "FALSE"
      ],
      "text/plain": [
       "[1] FALSE"
      ]
     },
     "metadata": {},
     "output_type": "display_data"
    },
    {
     "data": {
      "text/html": [
       "TRUE"
      ],
      "text/latex": [
       "TRUE"
      ],
      "text/markdown": [
       "TRUE"
      ],
      "text/plain": [
       "[1] TRUE"
      ]
     },
     "metadata": {},
     "output_type": "display_data"
    },
    {
     "data": {
      "text/html": [
       "TRUE"
      ],
      "text/latex": [
       "TRUE"
      ],
      "text/markdown": [
       "TRUE"
      ],
      "text/plain": [
       "[1] TRUE"
      ]
     },
     "metadata": {},
     "output_type": "display_data"
    }
   ],
   "source": [
    "# Test for normality of larval size data to be compared. \n",
    "# If distributions are not normal, a nonparametric test must be used. \n",
    "\n",
    "setwd(\"/Users/ghost/Documents/Gitrepos/aedes-aegypti-2020/2019_data\")\n",
    "data <- read.csv('./cleaned_animal_analyses.csv')\n",
    "\n",
    "data$A_starved <- as.factor(data$A_starved)\n",
    "data$A_treatment_odor <- as.factor(data$A_treatment_odor)\n",
    "data$A_sex <- as.factor(data$A_sex)\n",
    "\n",
    "\"TRUE/FALSE: Data queried has a normal distribution\"\n",
    "\"All tests must be TRUE to use statistical tests that assume normality\"\n",
    "\n",
    "sub <- subset(data, A_sex==\"f\")\n",
    "sub1 <- subset(sub, A_starved==\"1day\")\n",
    "sub2 <- subset(sub, A_starved==\"no\")\n",
    "shapiro.test(sub1$A_larvae_length_mm)$p.value>0.05\n",
    "shapiro.test(sub2$A_larvae_length_mm)$p.value>0.05\n",
    "\n",
    "sub <- subset(data, A_sex==\"m\")\n",
    "sub1 <- subset(sub, A_starved==\"1day\")\n",
    "sub2 <- subset(sub, A_starved==\"no\")\n",
    "shapiro.test(sub1$A_larvae_length_mm)$p.value>0.05\n",
    "shapiro.test(sub2$A_larvae_length_mm)$p.value>0.05"
   ]
  },
  {
   "cell_type": "code",
   "execution_count": 4,
   "metadata": {},
   "outputs": [
    {
     "data": {
      "text/html": [
       "<ol class=list-inline>\n",
       "\t<li>'0.505949367088608'</li>\n",
       "\t<li>'f fed - f starved mean'</li>\n",
       "</ol>\n"
      ],
      "text/latex": [
       "\\begin{enumerate*}\n",
       "\\item '0.505949367088608'\n",
       "\\item 'f fed - f starved mean'\n",
       "\\end{enumerate*}\n"
      ],
      "text/markdown": [
       "1. '0.505949367088608'\n",
       "2. 'f fed - f starved mean'\n",
       "\n",
       "\n"
      ],
      "text/plain": [
       "[1] \"0.505949367088608\"      \"f fed - f starved mean\""
      ]
     },
     "metadata": {},
     "output_type": "display_data"
    },
    {
     "data": {
      "text/html": [
       "<ol class=list-inline>\n",
       "\t<li>'0.229801615168539'</li>\n",
       "\t<li>'m fed - m starved mean'</li>\n",
       "</ol>\n"
      ],
      "text/latex": [
       "\\begin{enumerate*}\n",
       "\\item '0.229801615168539'\n",
       "\\item 'm fed - m starved mean'\n",
       "\\end{enumerate*}\n"
      ],
      "text/markdown": [
       "1. '0.229801615168539'\n",
       "2. 'm fed - m starved mean'\n",
       "\n",
       "\n"
      ],
      "text/plain": [
       "[1] \"0.229801615168539\"      \"m fed - m starved mean\""
      ]
     },
     "metadata": {},
     "output_type": "display_data"
    },
    {
     "data": {
      "text/html": [
       "<ol class=list-inline>\n",
       "\t<li>'0.257758498079932'</li>\n",
       "\t<li>'f starved mean - m starved mean'</li>\n",
       "</ol>\n"
      ],
      "text/latex": [
       "\\begin{enumerate*}\n",
       "\\item '0.257758498079932'\n",
       "\\item 'f starved mean - m starved mean'\n",
       "\\end{enumerate*}\n"
      ],
      "text/markdown": [
       "1. '0.257758498079932'\n",
       "2. 'f starved mean - m starved mean'\n",
       "\n",
       "\n"
      ],
      "text/plain": [
       "[1] \"0.257758498079932\"               \"f starved mean - m starved mean\""
      ]
     },
     "metadata": {},
     "output_type": "display_data"
    },
    {
     "data": {
      "text/html": [
       "<ol class=list-inline>\n",
       "\t<li>'0.53390625'</li>\n",
       "\t<li>'f fed mean - m fed mean'</li>\n",
       "</ol>\n"
      ],
      "text/latex": [
       "\\begin{enumerate*}\n",
       "\\item '0.53390625'\n",
       "\\item 'f fed mean - m fed mean'\n",
       "\\end{enumerate*}\n"
      ],
      "text/markdown": [
       "1. '0.53390625'\n",
       "2. 'f fed mean - m fed mean'\n",
       "\n",
       "\n"
      ],
      "text/plain": [
       "[1] \"0.53390625\"              \"f fed mean - m fed mean\""
      ]
     },
     "metadata": {},
     "output_type": "display_data"
    },
    {
     "name": "stdout",
     "output_type": "stream",
     "text": [
      "Number of tests ran: 9"
     ]
    },
    {
     "data": {
      "text/html": [
       "<table>\n",
       "<thead><tr><th scope=col>t</th><th scope=col>p</th><th scope=col>p...0.05</th><th scope=col>p...0.01</th><th scope=col>p...0.001</th><th scope=col>p...1e.04</th></tr></thead>\n",
       "<tbody>\n",
       "\t<tr><td>f starved vs f fed size                 </td><td>2.424148e-07                            </td><td> TRUE                                   </td><td> TRUE                                   </td><td> TRUE                                   </td><td> TRUE                                   </td></tr>\n",
       "\t<tr><td>m starved vs m fed size                 </td><td>2.788582e-03                            </td><td> TRUE                                   </td><td> TRUE                                   </td><td>FALSE                                   </td><td>FALSE                                   </td></tr>\n",
       "\t<tr><td>m starved vs f starved size             </td><td>1.715640e-03                            </td><td> TRUE                                   </td><td> TRUE                                   </td><td>FALSE                                   </td><td>FALSE                                   </td></tr>\n",
       "\t<tr><td>f fed vs m fed size                     </td><td>8.743636e-11                            </td><td> TRUE                                   </td><td> TRUE                                   </td><td> TRUE                                   </td><td> TRUE                                   </td></tr>\n",
       "\t<tr><td>time moving by daylight regression      </td><td>4.071317e-01                            </td><td>FALSE                                   </td><td>FALSE                                   </td><td>FALSE                                   </td><td>FALSE                                   </td></tr>\n",
       "\t<tr><td>time next to wall by daylight regression</td><td>5.485870e-01                            </td><td>FALSE                                   </td><td>FALSE                                   </td><td>FALSE                                   </td><td>FALSE                                   </td></tr>\n",
       "\t<tr><td>median speed by daylight regression     </td><td>4.020376e-01                            </td><td>FALSE                                   </td><td>FALSE                                   </td><td>FALSE                                   </td><td>FALSE                                   </td></tr>\n",
       "\t<tr><td>time moving by starvation state         </td><td>5.280808e-15                            </td><td> TRUE                                   </td><td> TRUE                                   </td><td> TRUE                                   </td><td> TRUE                                   </td></tr>\n",
       "\t<tr><td>time next to wall by starvation state   </td><td>5.708093e-17                            </td><td> TRUE                                   </td><td> TRUE                                   </td><td> TRUE                                   </td><td> TRUE                                   </td></tr>\n",
       "</tbody>\n",
       "</table>\n"
      ],
      "text/latex": [
       "\\begin{tabular}{r|llllll}\n",
       " t & p & p...0.05 & p...0.01 & p...0.001 & p...1e.04\\\\\n",
       "\\hline\n",
       "\t f starved vs f fed size                  & 2.424148e-07                             &  TRUE                                    &  TRUE                                    &  TRUE                                    &  TRUE                                   \\\\\n",
       "\t m starved vs m fed size                  & 2.788582e-03                             &  TRUE                                    &  TRUE                                    & FALSE                                    & FALSE                                   \\\\\n",
       "\t m starved vs f starved size              & 1.715640e-03                             &  TRUE                                    &  TRUE                                    & FALSE                                    & FALSE                                   \\\\\n",
       "\t f fed vs m fed size                      & 8.743636e-11                             &  TRUE                                    &  TRUE                                    &  TRUE                                    &  TRUE                                   \\\\\n",
       "\t time moving by daylight regression       & 4.071317e-01                             & FALSE                                    & FALSE                                    & FALSE                                    & FALSE                                   \\\\\n",
       "\t time next to wall by daylight regression & 5.485870e-01                             & FALSE                                    & FALSE                                    & FALSE                                    & FALSE                                   \\\\\n",
       "\t median speed by daylight regression      & 4.020376e-01                             & FALSE                                    & FALSE                                    & FALSE                                    & FALSE                                   \\\\\n",
       "\t time moving by starvation state          & 5.280808e-15                             &  TRUE                                    &  TRUE                                    &  TRUE                                    &  TRUE                                   \\\\\n",
       "\t time next to wall by starvation state    & 5.708093e-17                             &  TRUE                                    &  TRUE                                    &  TRUE                                    &  TRUE                                   \\\\\n",
       "\\end{tabular}\n"
      ],
      "text/markdown": [
       "\n",
       "| t | p | p...0.05 | p...0.01 | p...0.001 | p...1e.04 |\n",
       "|---|---|---|---|---|---|\n",
       "| f starved vs f fed size                  | 2.424148e-07                             |  TRUE                                    |  TRUE                                    |  TRUE                                    |  TRUE                                    |\n",
       "| m starved vs m fed size                  | 2.788582e-03                             |  TRUE                                    |  TRUE                                    | FALSE                                    | FALSE                                    |\n",
       "| m starved vs f starved size              | 1.715640e-03                             |  TRUE                                    |  TRUE                                    | FALSE                                    | FALSE                                    |\n",
       "| f fed vs m fed size                      | 8.743636e-11                             |  TRUE                                    |  TRUE                                    |  TRUE                                    |  TRUE                                    |\n",
       "| time moving by daylight regression       | 4.071317e-01                             | FALSE                                    | FALSE                                    | FALSE                                    | FALSE                                    |\n",
       "| time next to wall by daylight regression | 5.485870e-01                             | FALSE                                    | FALSE                                    | FALSE                                    | FALSE                                    |\n",
       "| median speed by daylight regression      | 4.020376e-01                             | FALSE                                    | FALSE                                    | FALSE                                    | FALSE                                    |\n",
       "| time moving by starvation state          | 5.280808e-15                             |  TRUE                                    |  TRUE                                    |  TRUE                                    |  TRUE                                    |\n",
       "| time next to wall by starvation state    | 5.708093e-17                             |  TRUE                                    |  TRUE                                    |  TRUE                                    |  TRUE                                    |\n",
       "\n"
      ],
      "text/plain": [
       "  t                                        p            p...0.05 p...0.01\n",
       "1 f starved vs f fed size                  2.424148e-07  TRUE     TRUE   \n",
       "2 m starved vs m fed size                  2.788582e-03  TRUE     TRUE   \n",
       "3 m starved vs f starved size              1.715640e-03  TRUE     TRUE   \n",
       "4 f fed vs m fed size                      8.743636e-11  TRUE     TRUE   \n",
       "5 time moving by daylight regression       4.071317e-01 FALSE    FALSE   \n",
       "6 time next to wall by daylight regression 5.485870e-01 FALSE    FALSE   \n",
       "7 median speed by daylight regression      4.020376e-01 FALSE    FALSE   \n",
       "8 time moving by starvation state          5.280808e-15  TRUE     TRUE   \n",
       "9 time next to wall by starvation state    5.708093e-17  TRUE     TRUE   \n",
       "  p...0.001 p...1e.04\n",
       "1  TRUE      TRUE    \n",
       "2 FALSE     FALSE    \n",
       "3 FALSE     FALSE    \n",
       "4  TRUE      TRUE    \n",
       "5 FALSE     FALSE    \n",
       "6 FALSE     FALSE    \n",
       "7 FALSE     FALSE    \n",
       "8  TRUE      TRUE    \n",
       "9  TRUE      TRUE    "
      ]
     },
     "metadata": {},
     "output_type": "display_data"
    }
   ],
   "source": [
    "# Compare physiological (length) differences between males, females, \n",
    "# and fed vs starved larvae\n",
    "\n",
    "# starved females vs fed females\n",
    "sub <- subset(data, A_sex==\"f\")\n",
    "sub1 <- subset(sub, A_starved==\"1day\")\n",
    "sub2 <- subset(sub, A_starved==\"no\")\n",
    "resp <- wilcox.test(sub1$A_larvae_length_mm, sub2$A_larvae_length_mm)\n",
    "c(mean(sub2$A_larvae_length_mm) - mean(sub1$A_larvae_length_mm), 'f fed - f starved mean')\n",
    "p <- resp$p.value\n",
    "t <- \"f starved vs f fed size\"\n",
    "\n",
    "# starved males vs fed males\n",
    "sub <- subset(data, A_sex==\"m\")\n",
    "sub1 <- subset(sub, A_starved==\"1day\")\n",
    "sub2 <- subset(sub, A_starved==\"no\")\n",
    "resp <- wilcox.test(sub1$A_larvae_length_mm, sub2$A_larvae_length_mm)\n",
    "c(mean(sub2$A_larvae_length_mm) - mean(sub1$A_larvae_length_mm), 'm fed - m starved mean')\n",
    "p <- c(p, resp$p.value)\n",
    "t <- c(t, \"m starved vs m fed size\")\n",
    "\n",
    "# starved females vs starved males\n",
    "sub <- subset(data, A_starved==\"1day\")\n",
    "sub1 <- subset(sub, A_sex==\"f\")\n",
    "sub2 <- subset(sub, A_sex==\"m\")\n",
    "resp <- wilcox.test(sub1$A_larvae_length_mm, sub2$A_larvae_length_mm)\n",
    "c(mean(sub1$A_larvae_length_mm) - mean(sub2$A_larvae_length_mm), 'f starved mean - m starved mean')\n",
    "p <- c(p, resp$p.value)\n",
    "t <- c(t, \"m starved vs f starved size\")\n",
    "\n",
    "# fed females vs fed males\n",
    "sub <- subset(data, A_starved==\"no\")\n",
    "sub1 <- subset(sub, A_sex==\"f\")\n",
    "sub2 <- subset(sub, A_sex==\"m\")\n",
    "resp <- wilcox.test(sub1$A_larvae_length_mm, sub2$A_larvae_length_mm)\n",
    "c(mean(sub1$A_larvae_length_mm) - mean(sub2$A_larvae_length_mm), 'f fed mean - m fed mean')\n",
    "p <- c(p, resp$p.value)\n",
    "t <- c(t, \"f fed vs m fed size\")\n",
    "\n",
    "# Compare larval activity to time of day\n",
    "resp <- lm(data$A_time_move~data$A_minutes_past_L)\n",
    "r <- anova(resp)$'Pr(>F)'[1]\n",
    "p <- c(p, r)\n",
    "t <- c(t, \"time moving by daylight regression\")\n",
    "\n",
    "resp <- lm(data$A_time_wall~data$A_minutes_past_L)\n",
    "r <- anova(resp)$'Pr(>F)'[1]\n",
    "p <- c(p, r)\n",
    "t <- c(t, \"time next to wall by daylight regression\")\n",
    "\n",
    "resp <- lm(data$A_median_speed~data$A_minutes_past_L)\n",
    "r <- anova(resp)$'Pr(>F)'[1]\n",
    "p <- c(p, r)\n",
    "t <- c(t, \"median speed by daylight regression\")\n",
    "\n",
    "# Compare differences between fed and starved larvae in behavioral metrics\n",
    "\n",
    "sub1 <- subset(data, A_starved==\"1day\")\n",
    "sub2 <- subset(data, A_starved==\"no\")\n",
    "resp <- wilcox.test(sub1$A_time_move, sub2$A_time_move)\n",
    "p <- c(p, resp$p.value)\n",
    "t <- c(t, \"time moving by starvation state\")\n",
    "\n",
    "sub1 <- subset(data, A_starved==\"1day\")\n",
    "sub2 <- subset(data, A_starved==\"no\")\n",
    "resp <- wilcox.test(sub1$A_time_wall, sub2$A_time_wall)\n",
    "p <- c(p, resp$p.value)\n",
    "t <- c(t, \"time next to wall by starvation state\")\n",
    "\n",
    "cat(\"Number of tests ran:\", length(p))\n",
    "p <- p.adjust(p, method=method_n)\n",
    "d <- data.frame(t, p, p<0.05, p<0.01, p<0.001, p<0.0001)\n",
    "d"
   ]
  },
  {
   "cell_type": "code",
   "execution_count": 5,
   "metadata": {},
   "outputs": [
    {
     "data": {
      "text/html": [
       "'Check if data queried has a normal distribution'"
      ],
      "text/latex": [
       "'Check if data queried has a normal distribution'"
      ],
      "text/markdown": [
       "'Check if data queried has a normal distribution'"
      ],
      "text/plain": [
       "[1] \"Check if data queried has a normal distribution\""
      ]
     },
     "metadata": {},
     "output_type": "display_data"
    },
    {
     "data": {
      "text/html": [
       "'All tests must be NORMAL to use statistical tests that assume normality'"
      ],
      "text/latex": [
       "'All tests must be NORMAL to use statistical tests that assume normality'"
      ],
      "text/markdown": [
       "'All tests must be NORMAL to use statistical tests that assume normality'"
      ],
      "text/plain": [
       "[1] \"All tests must be NORMAL to use statistical tests that assume normality\""
      ]
     },
     "metadata": {},
     "output_type": "display_data"
    },
    {
     "data": {
      "text/html": [
       "'Not normally distributed'"
      ],
      "text/latex": [
       "'Not normally distributed'"
      ],
      "text/markdown": [
       "'Not normally distributed'"
      ],
      "text/plain": [
       "[1] \"Not normally distributed\""
      ]
     },
     "metadata": {},
     "output_type": "display_data"
    },
    {
     "data": {
      "text/html": [
       "'Not normally distributed'"
      ],
      "text/latex": [
       "'Not normally distributed'"
      ],
      "text/markdown": [
       "'Not normally distributed'"
      ],
      "text/plain": [
       "[1] \"Not normally distributed\""
      ]
     },
     "metadata": {},
     "output_type": "display_data"
    },
    {
     "data": {
      "text/html": [
       "'Not normally distributed'"
      ],
      "text/latex": [
       "'Not normally distributed'"
      ],
      "text/markdown": [
       "'Not normally distributed'"
      ],
      "text/plain": [
       "[1] \"Not normally distributed\""
      ]
     },
     "metadata": {},
     "output_type": "display_data"
    },
    {
     "data": {
      "text/html": [
       "'Not normally distributed'"
      ],
      "text/latex": [
       "'Not normally distributed'"
      ],
      "text/markdown": [
       "'Not normally distributed'"
      ],
      "text/plain": [
       "[1] \"Not normally distributed\""
      ]
     },
     "metadata": {},
     "output_type": "display_data"
    },
    {
     "data": {
      "text/html": [
       "'Not normally distributed'"
      ],
      "text/latex": [
       "'Not normally distributed'"
      ],
      "text/markdown": [
       "'Not normally distributed'"
      ],
      "text/plain": [
       "[1] \"Not normally distributed\""
      ]
     },
     "metadata": {},
     "output_type": "display_data"
    },
    {
     "data": {
      "text/html": [
       "'Not normally distributed'"
      ],
      "text/latex": [
       "'Not normally distributed'"
      ],
      "text/markdown": [
       "'Not normally distributed'"
      ],
      "text/plain": [
       "[1] \"Not normally distributed\""
      ]
     },
     "metadata": {},
     "output_type": "display_data"
    },
    {
     "data": {
      "text/html": [
       "'Not normally distributed'"
      ],
      "text/latex": [
       "'Not normally distributed'"
      ],
      "text/markdown": [
       "'Not normally distributed'"
      ],
      "text/plain": [
       "[1] \"Not normally distributed\""
      ]
     },
     "metadata": {},
     "output_type": "display_data"
    }
   ],
   "source": [
    "# Test for normality of behavior metrics to be compared. \n",
    "# If distributions are not normal, a nonparametric test must be used. \n",
    "\n",
    "data3 <- read.csv('./data/trajectories/summary/cleaned_animal_analyses_stimuli_groups.csv')\n",
    "data3$stimulus <- as.factor(data3$stimulus)\n",
    "\n",
    "treatments <- c(\"naive_100ul_left_food_05percent\", \"naive_100ul_left_food_extract\", \n",
    "                \"naive_100ul_left_yeastRNA_1gL\", \"naive_100ul_left_quinine_10mM\",\n",
    "                \"naive_100ul_left_indole_100uM\", \"naive_100ul_left_o-cresol_100uM\", \n",
    "                \"naive_100ul_left_milliQ_water\", \"naive_100ul_left_indole_10mM\",\n",
    "                \"naive_100ul_left_amino_acids\", \"naive_100ul_left_glucose_10gL\")\n",
    "\n",
    "a <- \"Normal\"\n",
    "b <- \"Normal\"\n",
    "c <- \"Normal\"\n",
    "d <- \"Normal\"\n",
    "e <- \"Normal\"\n",
    "f <- \"Normal\"\n",
    "g <- \"Normal\"\n",
    "\n",
    "for (fed in c(\"1day\", \"no\")){\n",
    "    for (treatment in treatments){\n",
    "        ss <- subset(data3, A_treatment_odor==treatment)\n",
    "        ss <- subset(ss, A_starved==fed) \n",
    "        if (shapiro.test(ss$median_conc_diff)$p.value<0.05){\n",
    "            a <- \"Not normally distributed\"\n",
    "        }\n",
    "        if (shapiro.test(ss$cd_move_diff)$p.value<0.05){\n",
    "            b <- \"Not normally distributed\"\n",
    "        }\n",
    "        if (shapiro.test(ss$discovery_time_diff)$p.value<0.05){\n",
    "            c <- \"Not normally distributed\"\n",
    "        }\n",
    "        if (shapiro.test(ss$c_speed_diff)$p.value<0.05){\n",
    "            d <- \"Not normally distributed\"\n",
    "        }\n",
    "        if (shapiro.test(ss$cd_speed_diff)$p.value<0.05){\n",
    "            e <- \"Not normally distributed\"\n",
    "        }\n",
    "        if (shapiro.test(ss$c_turn_diff)$p.value<0.05){\n",
    "            f <- \"Not normally distributed\"\n",
    "        }\n",
    "        if (shapiro.test(ss$cd_turn_diff)$p.value<0.05){\n",
    "            g <- \"Not normally distributed\"\n",
    "        }}}\n",
    "\n",
    "\"Check if data queried has a normal distribution\"\n",
    "\"All tests must be NORMAL to use statistical tests that assume normality\"\n",
    "\n",
    "a\n",
    "b\n",
    "c\n",
    "d\n",
    "e\n",
    "f\n",
    "g"
   ]
  },
  {
   "cell_type": "code",
   "execution_count": 6,
   "metadata": {
    "scrolled": false
   },
   "outputs": [
    {
     "name": "stdout",
     "output_type": "stream",
     "text": [
      "Number of tests ran: 27"
     ]
    },
    {
     "data": {
      "text/html": [
       "<table>\n",
       "<thead><tr><th scope=col>t</th><th scope=col>p</th><th scope=col>p...0.05</th><th scope=col>p...0.01</th><th scope=col>p...0.001</th><th scope=col>p...1e.04</th></tr></thead>\n",
       "<tbody>\n",
       "\t<tr><td>naive_100ul_left_food_05percent 1day paired test of median concentration</td><td>2.618621e-09                                                            </td><td> TRUE                                                                   </td><td> TRUE                                                                   </td><td> TRUE                                                                   </td><td> TRUE                                                                   </td></tr>\n",
       "\t<tr><td>naive_100ul_left_food_extract 1day paired test of median concentration  </td><td>3.667358e-03                                                            </td><td> TRUE                                                                   </td><td> TRUE                                                                   </td><td>FALSE                                                                   </td><td>FALSE                                                                   </td></tr>\n",
       "\t<tr><td>naive_100ul_left_yeastRNA_1gL 1day paired test of median concentration  </td><td>4.913504e-02                                                            </td><td> TRUE                                                                   </td><td>FALSE                                                                   </td><td>FALSE                                                                   </td><td>FALSE                                                                   </td></tr>\n",
       "\t<tr><td>naive_100ul_left_quinine_10mM 1day paired test of median concentration  </td><td>1.676211e-08                                                            </td><td> TRUE                                                                   </td><td> TRUE                                                                   </td><td> TRUE                                                                   </td><td> TRUE                                                                   </td></tr>\n",
       "\t<tr><td>naive_100ul_left_indole_100uM 1day paired test of median concentration  </td><td>1.000000e+00                                                            </td><td>FALSE                                                                   </td><td>FALSE                                                                   </td><td>FALSE                                                                   </td><td>FALSE                                                                   </td></tr>\n",
       "\t<tr><td>naive_100ul_left_o-cresol_100uM 1day paired test of median concentration</td><td>1.000000e+00                                                            </td><td>FALSE                                                                   </td><td>FALSE                                                                   </td><td>FALSE                                                                   </td><td>FALSE                                                                   </td></tr>\n",
       "\t<tr><td>naive_100ul_left_milliQ_water 1day paired test of median concentration  </td><td>1.000000e+00                                                            </td><td>FALSE                                                                   </td><td>FALSE                                                                   </td><td>FALSE                                                                   </td><td>FALSE                                                                   </td></tr>\n",
       "\t<tr><td>naive_100ul_left_indole_10mM 1day paired test of median concentration   </td><td>3.091321e-01                                                            </td><td>FALSE                                                                   </td><td>FALSE                                                                   </td><td>FALSE                                                                   </td><td>FALSE                                                                   </td></tr>\n",
       "\t<tr><td>naive_100ul_left_amino_acids 1day paired test of median concentration   </td><td>1.000000e+00                                                            </td><td>FALSE                                                                   </td><td>FALSE                                                                   </td><td>FALSE                                                                   </td><td>FALSE                                                                   </td></tr>\n",
       "\t<tr><td>naive_100ul_left_glucose_10gL 1day paired test of median concentration  </td><td>1.000000e+00                                                            </td><td>FALSE                                                                   </td><td>FALSE                                                                   </td><td>FALSE                                                                   </td><td>FALSE                                                                   </td></tr>\n",
       "\t<tr><td>naive_100ul_left_food_05percent no paired test of median concentration  </td><td>1.000000e+00                                                            </td><td>FALSE                                                                   </td><td>FALSE                                                                   </td><td>FALSE                                                                   </td><td>FALSE                                                                   </td></tr>\n",
       "\t<tr><td>naive_100ul_left_food_extract no paired test of median concentration    </td><td>1.000000e+00                                                            </td><td>FALSE                                                                   </td><td>FALSE                                                                   </td><td>FALSE                                                                   </td><td>FALSE                                                                   </td></tr>\n",
       "\t<tr><td>naive_100ul_left_yeastRNA_1gL no paired test of median concentration    </td><td>1.000000e+00                                                            </td><td>FALSE                                                                   </td><td>FALSE                                                                   </td><td>FALSE                                                                   </td><td>FALSE                                                                   </td></tr>\n",
       "\t<tr><td>naive_100ul_left_quinine_10mM no paired test of median concentration    </td><td>2.514931e-03                                                            </td><td> TRUE                                                                   </td><td> TRUE                                                                   </td><td>FALSE                                                                   </td><td>FALSE                                                                   </td></tr>\n",
       "\t<tr><td>naive_100ul_left_indole_100uM no paired test of median concentration    </td><td>9.803968e-01                                                            </td><td>FALSE                                                                   </td><td>FALSE                                                                   </td><td>FALSE                                                                   </td><td>FALSE                                                                   </td></tr>\n",
       "\t<tr><td>naive_100ul_left_o-cresol_100uM no paired test of median concentration  </td><td>2.556010e-02                                                            </td><td> TRUE                                                                   </td><td>FALSE                                                                   </td><td>FALSE                                                                   </td><td>FALSE                                                                   </td></tr>\n",
       "\t<tr><td>naive_100ul_left_milliQ_water no paired test of median concentration    </td><td>1.000000e+00                                                            </td><td>FALSE                                                                   </td><td>FALSE                                                                   </td><td>FALSE                                                                   </td><td>FALSE                                                                   </td></tr>\n",
       "\t<tr><td>naive_100ul_left_indole_10mM no paired test of median concentration     </td><td>1.000000e+00                                                            </td><td>FALSE                                                                   </td><td>FALSE                                                                   </td><td>FALSE                                                                   </td><td>FALSE                                                                   </td></tr>\n",
       "\t<tr><td>naive_100ul_left_amino_acids no paired test of median concentration     </td><td>1.000000e+00                                                            </td><td>FALSE                                                                   </td><td>FALSE                                                                   </td><td>FALSE                                                                   </td><td>FALSE                                                                   </td></tr>\n",
       "\t<tr><td>naive_100ul_left_glucose_10gL no paired test of median concentration    </td><td>1.000000e+00                                                            </td><td>FALSE                                                                   </td><td>FALSE                                                                   </td><td>FALSE                                                                   </td><td>FALSE                                                                   </td></tr>\n",
       "\t<tr><td>median concentration by odor                                            </td><td>1.550897e-22                                                            </td><td> TRUE                                                                   </td><td> TRUE                                                                   </td><td> TRUE                                                                   </td><td> TRUE                                                                   </td></tr>\n",
       "\t<tr><td>cd_move_diff by odor                                                    </td><td>9.803968e-01                                                            </td><td>FALSE                                                                   </td><td>FALSE                                                                   </td><td>FALSE                                                                   </td><td>FALSE                                                                   </td></tr>\n",
       "\t<tr><td>discovery_time by odor                                                  </td><td>1.000000e+00                                                            </td><td>FALSE                                                                   </td><td>FALSE                                                                   </td><td>FALSE                                                                   </td><td>FALSE                                                                   </td></tr>\n",
       "\t<tr><td>c_speed_diff by odor                                                    </td><td>8.675769e-11                                                            </td><td> TRUE                                                                   </td><td> TRUE                                                                   </td><td> TRUE                                                                   </td><td> TRUE                                                                   </td></tr>\n",
       "\t<tr><td>cd_speed_diff by odor                                                   </td><td>1.000000e+00                                                            </td><td>FALSE                                                                   </td><td>FALSE                                                                   </td><td>FALSE                                                                   </td><td>FALSE                                                                   </td></tr>\n",
       "\t<tr><td>c_turn_diff by odor                                                     </td><td>1.000000e+00                                                            </td><td>FALSE                                                                   </td><td>FALSE                                                                   </td><td>FALSE                                                                   </td><td>FALSE                                                                   </td></tr>\n",
       "\t<tr><td>cd_turn_diff by odor                                                    </td><td>1.000000e+00                                                            </td><td>FALSE                                                                   </td><td>FALSE                                                                   </td><td>FALSE                                                                   </td><td>FALSE                                                                   </td></tr>\n",
       "</tbody>\n",
       "</table>\n"
      ],
      "text/latex": [
       "\\begin{tabular}{r|llllll}\n",
       " t & p & p...0.05 & p...0.01 & p...0.001 & p...1e.04\\\\\n",
       "\\hline\n",
       "\t naive\\_100ul\\_left\\_food\\_05percent 1day paired test of median concentration & 2.618621e-09                                                                     &  TRUE                                                                            &  TRUE                                                                            &  TRUE                                                                            &  TRUE                                                                           \\\\\n",
       "\t naive\\_100ul\\_left\\_food\\_extract 1day paired test of median concentration   & 3.667358e-03                                                                     &  TRUE                                                                            &  TRUE                                                                            & FALSE                                                                            & FALSE                                                                           \\\\\n",
       "\t naive\\_100ul\\_left\\_yeastRNA\\_1gL 1day paired test of median concentration   & 4.913504e-02                                                                     &  TRUE                                                                            & FALSE                                                                            & FALSE                                                                            & FALSE                                                                           \\\\\n",
       "\t naive\\_100ul\\_left\\_quinine\\_10mM 1day paired test of median concentration   & 1.676211e-08                                                                     &  TRUE                                                                            &  TRUE                                                                            &  TRUE                                                                            &  TRUE                                                                           \\\\\n",
       "\t naive\\_100ul\\_left\\_indole\\_100uM 1day paired test of median concentration   & 1.000000e+00                                                                     & FALSE                                                                            & FALSE                                                                            & FALSE                                                                            & FALSE                                                                           \\\\\n",
       "\t naive\\_100ul\\_left\\_o-cresol\\_100uM 1day paired test of median concentration & 1.000000e+00                                                                     & FALSE                                                                            & FALSE                                                                            & FALSE                                                                            & FALSE                                                                           \\\\\n",
       "\t naive\\_100ul\\_left\\_milliQ\\_water 1day paired test of median concentration   & 1.000000e+00                                                                     & FALSE                                                                            & FALSE                                                                            & FALSE                                                                            & FALSE                                                                           \\\\\n",
       "\t naive\\_100ul\\_left\\_indole\\_10mM 1day paired test of median concentration    & 3.091321e-01                                                                     & FALSE                                                                            & FALSE                                                                            & FALSE                                                                            & FALSE                                                                           \\\\\n",
       "\t naive\\_100ul\\_left\\_amino\\_acids 1day paired test of median concentration    & 1.000000e+00                                                                     & FALSE                                                                            & FALSE                                                                            & FALSE                                                                            & FALSE                                                                           \\\\\n",
       "\t naive\\_100ul\\_left\\_glucose\\_10gL 1day paired test of median concentration   & 1.000000e+00                                                                     & FALSE                                                                            & FALSE                                                                            & FALSE                                                                            & FALSE                                                                           \\\\\n",
       "\t naive\\_100ul\\_left\\_food\\_05percent no paired test of median concentration   & 1.000000e+00                                                                     & FALSE                                                                            & FALSE                                                                            & FALSE                                                                            & FALSE                                                                           \\\\\n",
       "\t naive\\_100ul\\_left\\_food\\_extract no paired test of median concentration     & 1.000000e+00                                                                     & FALSE                                                                            & FALSE                                                                            & FALSE                                                                            & FALSE                                                                           \\\\\n",
       "\t naive\\_100ul\\_left\\_yeastRNA\\_1gL no paired test of median concentration     & 1.000000e+00                                                                     & FALSE                                                                            & FALSE                                                                            & FALSE                                                                            & FALSE                                                                           \\\\\n",
       "\t naive\\_100ul\\_left\\_quinine\\_10mM no paired test of median concentration     & 2.514931e-03                                                                     &  TRUE                                                                            &  TRUE                                                                            & FALSE                                                                            & FALSE                                                                           \\\\\n",
       "\t naive\\_100ul\\_left\\_indole\\_100uM no paired test of median concentration     & 9.803968e-01                                                                     & FALSE                                                                            & FALSE                                                                            & FALSE                                                                            & FALSE                                                                           \\\\\n",
       "\t naive\\_100ul\\_left\\_o-cresol\\_100uM no paired test of median concentration   & 2.556010e-02                                                                     &  TRUE                                                                            & FALSE                                                                            & FALSE                                                                            & FALSE                                                                           \\\\\n",
       "\t naive\\_100ul\\_left\\_milliQ\\_water no paired test of median concentration     & 1.000000e+00                                                                     & FALSE                                                                            & FALSE                                                                            & FALSE                                                                            & FALSE                                                                           \\\\\n",
       "\t naive\\_100ul\\_left\\_indole\\_10mM no paired test of median concentration      & 1.000000e+00                                                                     & FALSE                                                                            & FALSE                                                                            & FALSE                                                                            & FALSE                                                                           \\\\\n",
       "\t naive\\_100ul\\_left\\_amino\\_acids no paired test of median concentration      & 1.000000e+00                                                                     & FALSE                                                                            & FALSE                                                                            & FALSE                                                                            & FALSE                                                                           \\\\\n",
       "\t naive\\_100ul\\_left\\_glucose\\_10gL no paired test of median concentration     & 1.000000e+00                                                                     & FALSE                                                                            & FALSE                                                                            & FALSE                                                                            & FALSE                                                                           \\\\\n",
       "\t median concentration by odor                                             & 1.550897e-22                                                             &  TRUE                                                                    &  TRUE                                                                    &  TRUE                                                                    &  TRUE                                                                   \\\\\n",
       "\t cd\\_move\\_diff by odor                                                     & 9.803968e-01                                                                 & FALSE                                                                        & FALSE                                                                        & FALSE                                                                        & FALSE                                                                       \\\\\n",
       "\t discovery\\_time by odor                                                   & 1.000000e+00                                                               & FALSE                                                                      & FALSE                                                                      & FALSE                                                                      & FALSE                                                                     \\\\\n",
       "\t c\\_speed\\_diff by odor                                                     & 8.675769e-11                                                                 &  TRUE                                                                        &  TRUE                                                                        &  TRUE                                                                        &  TRUE                                                                       \\\\\n",
       "\t cd\\_speed\\_diff by odor                                                    & 1.000000e+00                                                                 & FALSE                                                                        & FALSE                                                                        & FALSE                                                                        & FALSE                                                                       \\\\\n",
       "\t c\\_turn\\_diff by odor                                                      & 1.000000e+00                                                                 & FALSE                                                                        & FALSE                                                                        & FALSE                                                                        & FALSE                                                                       \\\\\n",
       "\t cd\\_turn\\_diff by odor                                                     & 1.000000e+00                                                                 & FALSE                                                                        & FALSE                                                                        & FALSE                                                                        & FALSE                                                                       \\\\\n",
       "\\end{tabular}\n"
      ],
      "text/markdown": [
       "\n",
       "| t | p | p...0.05 | p...0.01 | p...0.001 | p...1e.04 |\n",
       "|---|---|---|---|---|---|\n",
       "| naive_100ul_left_food_05percent 1day paired test of median concentration | 2.618621e-09                                                             |  TRUE                                                                    |  TRUE                                                                    |  TRUE                                                                    |  TRUE                                                                    |\n",
       "| naive_100ul_left_food_extract 1day paired test of median concentration   | 3.667358e-03                                                             |  TRUE                                                                    |  TRUE                                                                    | FALSE                                                                    | FALSE                                                                    |\n",
       "| naive_100ul_left_yeastRNA_1gL 1day paired test of median concentration   | 4.913504e-02                                                             |  TRUE                                                                    | FALSE                                                                    | FALSE                                                                    | FALSE                                                                    |\n",
       "| naive_100ul_left_quinine_10mM 1day paired test of median concentration   | 1.676211e-08                                                             |  TRUE                                                                    |  TRUE                                                                    |  TRUE                                                                    |  TRUE                                                                    |\n",
       "| naive_100ul_left_indole_100uM 1day paired test of median concentration   | 1.000000e+00                                                             | FALSE                                                                    | FALSE                                                                    | FALSE                                                                    | FALSE                                                                    |\n",
       "| naive_100ul_left_o-cresol_100uM 1day paired test of median concentration | 1.000000e+00                                                             | FALSE                                                                    | FALSE                                                                    | FALSE                                                                    | FALSE                                                                    |\n",
       "| naive_100ul_left_milliQ_water 1day paired test of median concentration   | 1.000000e+00                                                             | FALSE                                                                    | FALSE                                                                    | FALSE                                                                    | FALSE                                                                    |\n",
       "| naive_100ul_left_indole_10mM 1day paired test of median concentration    | 3.091321e-01                                                             | FALSE                                                                    | FALSE                                                                    | FALSE                                                                    | FALSE                                                                    |\n",
       "| naive_100ul_left_amino_acids 1day paired test of median concentration    | 1.000000e+00                                                             | FALSE                                                                    | FALSE                                                                    | FALSE                                                                    | FALSE                                                                    |\n",
       "| naive_100ul_left_glucose_10gL 1day paired test of median concentration   | 1.000000e+00                                                             | FALSE                                                                    | FALSE                                                                    | FALSE                                                                    | FALSE                                                                    |\n",
       "| naive_100ul_left_food_05percent no paired test of median concentration   | 1.000000e+00                                                             | FALSE                                                                    | FALSE                                                                    | FALSE                                                                    | FALSE                                                                    |\n",
       "| naive_100ul_left_food_extract no paired test of median concentration     | 1.000000e+00                                                             | FALSE                                                                    | FALSE                                                                    | FALSE                                                                    | FALSE                                                                    |\n",
       "| naive_100ul_left_yeastRNA_1gL no paired test of median concentration     | 1.000000e+00                                                             | FALSE                                                                    | FALSE                                                                    | FALSE                                                                    | FALSE                                                                    |\n",
       "| naive_100ul_left_quinine_10mM no paired test of median concentration     | 2.514931e-03                                                             |  TRUE                                                                    |  TRUE                                                                    | FALSE                                                                    | FALSE                                                                    |\n",
       "| naive_100ul_left_indole_100uM no paired test of median concentration     | 9.803968e-01                                                             | FALSE                                                                    | FALSE                                                                    | FALSE                                                                    | FALSE                                                                    |\n",
       "| naive_100ul_left_o-cresol_100uM no paired test of median concentration   | 2.556010e-02                                                             |  TRUE                                                                    | FALSE                                                                    | FALSE                                                                    | FALSE                                                                    |\n",
       "| naive_100ul_left_milliQ_water no paired test of median concentration     | 1.000000e+00                                                             | FALSE                                                                    | FALSE                                                                    | FALSE                                                                    | FALSE                                                                    |\n",
       "| naive_100ul_left_indole_10mM no paired test of median concentration      | 1.000000e+00                                                             | FALSE                                                                    | FALSE                                                                    | FALSE                                                                    | FALSE                                                                    |\n",
       "| naive_100ul_left_amino_acids no paired test of median concentration      | 1.000000e+00                                                             | FALSE                                                                    | FALSE                                                                    | FALSE                                                                    | FALSE                                                                    |\n",
       "| naive_100ul_left_glucose_10gL no paired test of median concentration     | 1.000000e+00                                                             | FALSE                                                                    | FALSE                                                                    | FALSE                                                                    | FALSE                                                                    |\n",
       "| median concentration by odor                                             | 1.550897e-22                                                             |  TRUE                                                                    |  TRUE                                                                    |  TRUE                                                                    |  TRUE                                                                    |\n",
       "| cd_move_diff by odor                                                     | 9.803968e-01                                                             | FALSE                                                                    | FALSE                                                                    | FALSE                                                                    | FALSE                                                                    |\n",
       "| discovery_time by odor                                                   | 1.000000e+00                                                             | FALSE                                                                    | FALSE                                                                    | FALSE                                                                    | FALSE                                                                    |\n",
       "| c_speed_diff by odor                                                     | 8.675769e-11                                                             |  TRUE                                                                    |  TRUE                                                                    |  TRUE                                                                    |  TRUE                                                                    |\n",
       "| cd_speed_diff by odor                                                    | 1.000000e+00                                                             | FALSE                                                                    | FALSE                                                                    | FALSE                                                                    | FALSE                                                                    |\n",
       "| c_turn_diff by odor                                                      | 1.000000e+00                                                             | FALSE                                                                    | FALSE                                                                    | FALSE                                                                    | FALSE                                                                    |\n",
       "| cd_turn_diff by odor                                                     | 1.000000e+00                                                             | FALSE                                                                    | FALSE                                                                    | FALSE                                                                    | FALSE                                                                    |\n",
       "\n"
      ],
      "text/plain": [
       "   t                                                                       \n",
       "1  naive_100ul_left_food_05percent 1day paired test of median concentration\n",
       "2  naive_100ul_left_food_extract 1day paired test of median concentration  \n",
       "3  naive_100ul_left_yeastRNA_1gL 1day paired test of median concentration  \n",
       "4  naive_100ul_left_quinine_10mM 1day paired test of median concentration  \n",
       "5  naive_100ul_left_indole_100uM 1day paired test of median concentration  \n",
       "6  naive_100ul_left_o-cresol_100uM 1day paired test of median concentration\n",
       "7  naive_100ul_left_milliQ_water 1day paired test of median concentration  \n",
       "8  naive_100ul_left_indole_10mM 1day paired test of median concentration   \n",
       "9  naive_100ul_left_amino_acids 1day paired test of median concentration   \n",
       "10 naive_100ul_left_glucose_10gL 1day paired test of median concentration  \n",
       "11 naive_100ul_left_food_05percent no paired test of median concentration  \n",
       "12 naive_100ul_left_food_extract no paired test of median concentration    \n",
       "13 naive_100ul_left_yeastRNA_1gL no paired test of median concentration    \n",
       "14 naive_100ul_left_quinine_10mM no paired test of median concentration    \n",
       "15 naive_100ul_left_indole_100uM no paired test of median concentration    \n",
       "16 naive_100ul_left_o-cresol_100uM no paired test of median concentration  \n",
       "17 naive_100ul_left_milliQ_water no paired test of median concentration    \n",
       "18 naive_100ul_left_indole_10mM no paired test of median concentration     \n",
       "19 naive_100ul_left_amino_acids no paired test of median concentration     \n",
       "20 naive_100ul_left_glucose_10gL no paired test of median concentration    \n",
       "21 median concentration by odor                                            \n",
       "22 cd_move_diff by odor                                                    \n",
       "23 discovery_time by odor                                                  \n",
       "24 c_speed_diff by odor                                                    \n",
       "25 cd_speed_diff by odor                                                   \n",
       "26 c_turn_diff by odor                                                     \n",
       "27 cd_turn_diff by odor                                                    \n",
       "   p            p...0.05 p...0.01 p...0.001 p...1e.04\n",
       "1  2.618621e-09  TRUE     TRUE     TRUE      TRUE    \n",
       "2  3.667358e-03  TRUE     TRUE    FALSE     FALSE    \n",
       "3  4.913504e-02  TRUE    FALSE    FALSE     FALSE    \n",
       "4  1.676211e-08  TRUE     TRUE     TRUE      TRUE    \n",
       "5  1.000000e+00 FALSE    FALSE    FALSE     FALSE    \n",
       "6  1.000000e+00 FALSE    FALSE    FALSE     FALSE    \n",
       "7  1.000000e+00 FALSE    FALSE    FALSE     FALSE    \n",
       "8  3.091321e-01 FALSE    FALSE    FALSE     FALSE    \n",
       "9  1.000000e+00 FALSE    FALSE    FALSE     FALSE    \n",
       "10 1.000000e+00 FALSE    FALSE    FALSE     FALSE    \n",
       "11 1.000000e+00 FALSE    FALSE    FALSE     FALSE    \n",
       "12 1.000000e+00 FALSE    FALSE    FALSE     FALSE    \n",
       "13 1.000000e+00 FALSE    FALSE    FALSE     FALSE    \n",
       "14 2.514931e-03  TRUE     TRUE    FALSE     FALSE    \n",
       "15 9.803968e-01 FALSE    FALSE    FALSE     FALSE    \n",
       "16 2.556010e-02  TRUE    FALSE    FALSE     FALSE    \n",
       "17 1.000000e+00 FALSE    FALSE    FALSE     FALSE    \n",
       "18 1.000000e+00 FALSE    FALSE    FALSE     FALSE    \n",
       "19 1.000000e+00 FALSE    FALSE    FALSE     FALSE    \n",
       "20 1.000000e+00 FALSE    FALSE    FALSE     FALSE    \n",
       "21 1.550897e-22  TRUE     TRUE     TRUE      TRUE    \n",
       "22 9.803968e-01 FALSE    FALSE    FALSE     FALSE    \n",
       "23 1.000000e+00 FALSE    FALSE    FALSE     FALSE    \n",
       "24 8.675769e-11  TRUE     TRUE     TRUE      TRUE    \n",
       "25 1.000000e+00 FALSE    FALSE    FALSE     FALSE    \n",
       "26 1.000000e+00 FALSE    FALSE    FALSE     FALSE    \n",
       "27 1.000000e+00 FALSE    FALSE    FALSE     FALSE    "
      ]
     },
     "metadata": {},
     "output_type": "display_data"
    }
   ],
   "source": [
    "# Calculate the preference value for each stimulus for both fed and starved larvae\n",
    "\n",
    "data <- read.csv('./data/trajectories/summary/cleaned_animal_analyses_stimuli_groups.csv')\n",
    "data$stimulus <- as.factor(data$stimulus)\n",
    "\n",
    "treatments <- c(\"naive_100ul_left_food_05percent\", \"naive_100ul_left_food_extract\", \n",
    "                \"naive_100ul_left_yeastRNA_1gL\", \"naive_100ul_left_quinine_10mM\",\n",
    "                \"naive_100ul_left_indole_100uM\", \"naive_100ul_left_o-cresol_100uM\", \n",
    "                \"naive_100ul_left_milliQ_water\", \"naive_100ul_left_indole_10mM\", \n",
    "                \"naive_100ul_left_amino_acids\", \"naive_100ul_left_glucose_10gL\")\n",
    "p <- 'test'\n",
    "t <- 'test'\n",
    "for (fed in c(\"1day\", \"no\")){\n",
    "    for (treatment in treatments){\n",
    "        ss <- subset(data, A_treatment_odor==treatment)\n",
    "        ss <- subset(ss, A_starved==fed)\n",
    "        resp <- t.test(ss$A_median_conc, ss$E_median_conc, paired=TRUE, alternative=\"two.sided\")\n",
    "        p <- c(p, resp$p.value)\n",
    "        t <- c(t, paste(treatment, fed, \"paired test of median concentration\", sep=\" \"))}}\n",
    "\n",
    "# Compare behavioral metrics for neutral, aversive, and appetitive cues\n",
    "data3 <- read.csv('./data/trajectories/summary/cleaned_animal_analyses_stimuli_groups.csv')\n",
    "data3$stimulus <- as.factor(data3$stimulus)\n",
    "\n",
    "resp <- kruskal.test(data3$median_conc_diff~data3$stimulus)\n",
    "p <- c(p, resp$p.value)\n",
    "t <- c(t, \"median concentration by odor\")\n",
    "\n",
    "resp <- kruskal.test(data3$cd_move_diff~data3$stimulus)\n",
    "p <- c(p, resp$p.value)\n",
    "t <- c(t, \"cd_move_diff by odor\")\n",
    "\n",
    "resp <- kruskal.test(data3$discovery_time_diff~data3$stimulus)\n",
    "p <- c(p, resp$p.value)\n",
    "t <- c(t, \"discovery_time by odor\")\n",
    "\n",
    "resp <- kruskal.test(data3$c_speed_diff~data3$stimulus)\n",
    "p <- c(p, resp$p.value)\n",
    "t <- c(t, \"c_speed_diff by odor\")\n",
    "\n",
    "resp <- kruskal.test(data3$cd_speed_diff~data3$stimulus)\n",
    "p <- c(p, resp$p.value)\n",
    "t <- c(t, \"cd_speed_diff by odor\")\n",
    "\n",
    "resp <- kruskal.test(data3$c_turn_diff~data3$stimulus)\n",
    "p <- c(p, resp$p.value)\n",
    "t <- c(t, \"c_turn_diff by odor\")\n",
    "\n",
    "resp <- kruskal.test(data3$cd_turn_diff~data3$stimulus)\n",
    "p <- c(p, resp$p.value)\n",
    "t <- c(t, \"cd_turn_diff by odor\")\n",
    "\n",
    "# remove placeholder values and print out p values\n",
    "p <- p[-1]; \n",
    "t <- t[-1];\n",
    "cat(\"Number of tests ran:\", length(p))\n",
    "\n",
    "p <- p.adjust(p, method=method_n)\n",
    "d <- data.frame(t, p, p<0.05, p<0.01, p<0.001, p<0.0001)\n",
    "d"
   ]
  },
  {
   "cell_type": "markdown",
   "metadata": {},
   "source": [
    "- Assess fit of the regression line used to fit distance to concentration for simulations"
   ]
  },
  {
   "cell_type": "code",
   "execution_count": 7,
   "metadata": {},
   "outputs": [
    {
     "name": "stderr",
     "output_type": "stream",
     "text": [
      "Warning message in wilcox.test.default(sub1$perc_over_50, sub2$perc_over_50):\n",
      "“cannot compute exact p-value with ties”"
     ]
    },
    {
     "data": {
      "text/plain": [
       "\n",
       "Call:\n",
       "lm(formula = data$perc_over_50 ~ data$time + data$larva_presence)\n",
       "\n",
       "Residuals:\n",
       "      Min        1Q    Median        3Q       Max \n",
       "-0.127494 -0.025380  0.006227  0.027555  0.106435 \n",
       "\n",
       "Coefficients:\n",
       "                               Estimate Std. Error t value Pr(>|t|)    \n",
       "(Intercept)                   0.1507706  0.0061737  24.421  < 2e-16 ***\n",
       "data$time                    -0.0026491  0.0006133  -4.319 2.14e-05 ***\n",
       "data$larva_presenceno_larvae -0.0385389  0.0052995  -7.272 3.16e-12 ***\n",
       "---\n",
       "Signif. codes:  0 ‘***’ 0.001 ‘**’ 0.01 ‘*’ 0.05 ‘.’ 0.1 ‘ ’ 1\n",
       "\n",
       "Residual standard error: 0.0459 on 297 degrees of freedom\n",
       "Multiple R-squared:  0.1941,\tAdjusted R-squared:  0.1887 \n",
       "F-statistic: 35.77 on 2 and 297 DF,  p-value: 1.205e-14\n"
      ]
     },
     "metadata": {},
     "output_type": "display_data"
    },
    {
     "data": {
      "text/html": [
       "<table>\n",
       "<thead><tr><th scope=col>tt</th><th scope=col>pp</th><th scope=col>pp...0.05</th></tr></thead>\n",
       "<tbody>\n",
       "\t<tr><td>Dye distribution at time 0                              </td><td>7.622821e-01                                            </td><td>FALSE                                                   </td></tr>\n",
       "\t<tr><td>regression larval presence time concentration: intercept</td><td>8.000000e-16                                            </td><td> TRUE                                                   </td></tr>\n",
       "\t<tr><td>regression larval presence time concentration: time     </td><td>1.554000e-03                                            </td><td> TRUE                                                   </td></tr>\n",
       "\t<tr><td>regression larval presence time concentration: presence </td><td>2.169000e-11                                            </td><td> TRUE                                                   </td></tr>\n",
       "</tbody>\n",
       "</table>\n"
      ],
      "text/latex": [
       "\\begin{tabular}{r|lll}\n",
       " tt & pp & pp...0.05\\\\\n",
       "\\hline\n",
       "\t Dye distribution at time 0                               & 7.622821e-01                                             & FALSE                                                   \\\\\n",
       "\t regression larval presence time concentration: intercept & 8.000000e-16                                             &  TRUE                                                   \\\\\n",
       "\t regression larval presence time concentration: time      & 1.554000e-03                                             &  TRUE                                                   \\\\\n",
       "\t regression larval presence time concentration: presence  & 2.169000e-11                                             &  TRUE                                                   \\\\\n",
       "\\end{tabular}\n"
      ],
      "text/markdown": [
       "\n",
       "| tt | pp | pp...0.05 |\n",
       "|---|---|---|\n",
       "| Dye distribution at time 0                               | 7.622821e-01                                             | FALSE                                                    |\n",
       "| regression larval presence time concentration: intercept | 8.000000e-16                                             |  TRUE                                                    |\n",
       "| regression larval presence time concentration: time      | 1.554000e-03                                             |  TRUE                                                    |\n",
       "| regression larval presence time concentration: presence  | 2.169000e-11                                             |  TRUE                                                    |\n",
       "\n"
      ],
      "text/plain": [
       "  tt                                                       pp          \n",
       "1 Dye distribution at time 0                               7.622821e-01\n",
       "2 regression larval presence time concentration: intercept 8.000000e-16\n",
       "3 regression larval presence time concentration: time      1.554000e-03\n",
       "4 regression larval presence time concentration: presence  2.169000e-11\n",
       "  pp...0.05\n",
       "1 FALSE    \n",
       "2  TRUE    \n",
       "3  TRUE    \n",
       "4  TRUE    "
      ]
     },
     "metadata": {},
     "output_type": "display_data"
    }
   ],
   "source": [
    "# Compare the effect of larval presence on dye diffusion over time\n",
    "\n",
    "# Mann-Whitney Wilcoxon test for unpaired data\n",
    "data <- read.csv(\"./larvae_no_larvae_comparison.csv\")\n",
    "data <- subset(data, data$time == 0)\n",
    "sub1 <- subset(data, larva_presence==\"no_larvae\")\n",
    "sub2 <- subset(data, larva_presence==\"larvae\")\n",
    "resp <- wilcox.test(sub1$perc_over_50, sub2$perc_over_50)\n",
    "pp <- resp$p.value\n",
    "tt <- \"Dye distribution at time 0\"\n",
    "\n",
    "# Linear regression for all other data points\n",
    "data <- read.csv(\"./larvae_no_larvae_comparison.csv\")\n",
    "data$larva_presence = as.factor(data$larva_presence)\n",
    "data <- subset(data, data$time > 0)\n",
    "resp <- lm(data$perc_over_50 ~ data$time+data$larva_presence)\n",
    "summary(resp)\n",
    "\n",
    "pp <- c(pp, 2e-16)\n",
    "tt <- c(tt, \"regression larval presence time concentration: intercept\")\n",
    "pp <- c(pp, 0.000777)\n",
    "tt <- c(tt, \"regression larval presence time concentration: time\")\n",
    "pp <- c(pp, 7.23e-12)\n",
    "tt <- c(tt, \"regression larval presence time concentration: presence\")\n",
    "\n",
    "pp <- p.adjust(pp, method=method_n)\n",
    "dd <- data.frame(tt, pp, pp<0.05)\n",
    "dd"
   ]
  },
  {
   "cell_type": "code",
   "execution_count": 8,
   "metadata": {},
   "outputs": [
    {
     "data": {
      "text/plain": [
       "\n",
       "Call:\n",
       "lm(formula = data2$ln_conc ~ data2$distance_mm)\n",
       "\n",
       "Residuals:\n",
       "    Min      1Q  Median      3Q     Max \n",
       "-4.5566 -0.5366 -0.2004  0.4153  2.0556 \n",
       "\n",
       "Coefficients:\n",
       "                    Estimate Std. Error t value Pr(>|t|)    \n",
       "(Intercept)        4.8971198  0.0341109   143.6   <2e-16 ***\n",
       "data2$distance_mm -0.0804699  0.0007013  -114.7   <2e-16 ***\n",
       "---\n",
       "Signif. codes:  0 ‘***’ 0.001 ‘**’ 0.01 ‘*’ 0.05 ‘.’ 0.1 ‘ ’ 1\n",
       "\n",
       "Residual standard error: 0.7115 on 2388 degrees of freedom\n",
       "Multiple R-squared:  0.8465,\tAdjusted R-squared:  0.8464 \n",
       "F-statistic: 1.316e+04 on 1 and 2388 DF,  p-value: < 2.2e-16\n"
      ]
     },
     "metadata": {},
     "output_type": "display_data"
    },
    {
     "data": {
      "text/html": [
       "0"
      ],
      "text/latex": [
       "0"
      ],
      "text/markdown": [
       "0"
      ],
      "text/plain": [
       "[1] 0"
      ]
     },
     "metadata": {},
     "output_type": "display_data"
    }
   ],
   "source": [
    "# See fit of regression line. The regression itself was done in Python. \n",
    "\n",
    "data2 <- read.csv(\"./data/fluorescein/distance_concentration_map_fitted.csv\")\n",
    "resp <- lm(data2$ln_conc~data2$distance_mm)\n",
    "           \n",
    "summary(resp)\n",
    "r <- anova(resp)$'Pr(>F)'[1]\n",
    "r"
   ]
  },
  {
   "cell_type": "code",
   "execution_count": null,
   "metadata": {
    "collapsed": true
   },
   "outputs": [],
   "source": []
  }
 ],
 "metadata": {
  "kernelspec": {
   "display_name": "R",
   "language": "R",
   "name": "ir"
  },
  "language_info": {
   "codemirror_mode": "r",
   "file_extension": ".r",
   "mimetype": "text/x-r-source",
   "name": "R",
   "pygments_lexer": "r",
   "version": "3.6.0"
  }
 },
 "nbformat": 4,
 "nbformat_minor": 2
}
