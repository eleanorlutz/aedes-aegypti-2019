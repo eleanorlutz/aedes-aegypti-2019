{
 "cells": [
  {
   "cell_type": "markdown",
   "metadata": {},
   "source": [
    "### Statistical Analyses\n",
    "#### List of tasks accomplished in this Jupyter Notebook:\n",
    "- Print out the n values for each treatment for reference\n",
    "- Compare physiological (length) differences between males, females, and fed vs starved larvae\n",
    "- Compare larval activity to time of day\n",
    "- Compare differences between fed and starved larvae in behavioral metrics\n",
    "- Calculate the preference value for each stimulus for both fed and starved larvae\n",
    "- Compare behavioral metrics for neutral, aversive, and appetitive cues\n",
    "- Compare the effect of larval presence on dye diffusion over time\n",
    "- Assess fit of the regression line used to fit distance to concentration for simulations\n",
    "- Adjust all tests using the Holm-Bonferroni correction"
   ]
  },
  {
   "cell_type": "code",
   "execution_count": 1,
   "metadata": {},
   "outputs": [
    {
     "data": {
      "text/plain": [
       "               _                           \n",
       "platform       x86_64-w64-mingw32          \n",
       "arch           x86_64                      \n",
       "os             mingw32                     \n",
       "system         x86_64, mingw32             \n",
       "status                                     \n",
       "major          3                           \n",
       "minor          5.1                         \n",
       "year           2018                        \n",
       "month          07                          \n",
       "day            02                          \n",
       "svn rev        74947                       \n",
       "language       R                           \n",
       "version.string R version 3.5.1 (2018-07-02)\n",
       "nickname       Feather Spray               "
      ]
     },
     "metadata": {},
     "output_type": "display_data"
    }
   ],
   "source": [
    "R.version # print R version for reference"
   ]
  },
  {
   "cell_type": "code",
   "execution_count": 2,
   "metadata": {},
   "outputs": [],
   "source": [
    "library(broom)\n",
    "\n",
    "setwd(\"A:/gitrepos/behavior_paper_final_code/data/\")\n",
    "data <- read.csv('./trajectories/summary/cleaned_animal_analyses.csv')\n",
    "\n",
    "data$A_starved <- as.factor(data$A_starved)\n",
    "data$A_treatment_odor <- as.factor(data$A_treatment_odor)\n",
    "data$A_sex <- as.factor(data$A_sex)\n",
    "\n",
    "method_n <- \"holm\""
   ]
  },
  {
   "cell_type": "markdown",
   "metadata": {},
   "source": [
    "- Print out the n values for each treatment for reference"
   ]
  },
  {
   "cell_type": "code",
   "execution_count": 3,
   "metadata": {},
   "outputs": [
    {
     "name": "stdout",
     "output_type": "stream",
     "text": [
      "Starved larvae:"
     ]
    },
    {
     "data": {
      "text/html": [
       "<table>\n",
       "<thead><tr><th scope=col>Var1</th><th scope=col>Freq</th></tr></thead>\n",
       "<tbody>\n",
       "\t<tr><td>naive_100ul_left_food_05percent</td><td>32                             </td></tr>\n",
       "\t<tr><td>naive_100ul_left_food_extract  </td><td>19                             </td></tr>\n",
       "\t<tr><td>naive_100ul_left_indole_100uM  </td><td>20                             </td></tr>\n",
       "\t<tr><td>naive_100ul_left_indole_10mM   </td><td>19                             </td></tr>\n",
       "\t<tr><td>naive_100ul_left_milliQ_water  </td><td>16                             </td></tr>\n",
       "\t<tr><td>naive_100ul_left_o-cresol_100uM</td><td>25                             </td></tr>\n",
       "\t<tr><td>naive_100ul_left_quinine_10mM  </td><td>19                             </td></tr>\n",
       "\t<tr><td>naive_100ul_left_yeastRNA_1gL  </td><td>18                             </td></tr>\n",
       "</tbody>\n",
       "</table>\n"
      ],
      "text/latex": [
       "\\begin{tabular}{r|ll}\n",
       " Var1 & Freq\\\\\n",
       "\\hline\n",
       "\t naive\\_100ul\\_left\\_food\\_05percent & 32                                     \\\\\n",
       "\t naive\\_100ul\\_left\\_food\\_extract   & 19                                     \\\\\n",
       "\t naive\\_100ul\\_left\\_indole\\_100uM   & 20                                     \\\\\n",
       "\t naive\\_100ul\\_left\\_indole\\_10mM    & 19                                     \\\\\n",
       "\t naive\\_100ul\\_left\\_milliQ\\_water   & 16                                     \\\\\n",
       "\t naive\\_100ul\\_left\\_o-cresol\\_100uM & 25                                     \\\\\n",
       "\t naive\\_100ul\\_left\\_quinine\\_10mM   & 19                                     \\\\\n",
       "\t naive\\_100ul\\_left\\_yeastRNA\\_1gL   & 18                                     \\\\\n",
       "\\end{tabular}\n"
      ],
      "text/markdown": [
       "\n",
       "Var1 | Freq | \n",
       "|---|---|---|---|---|---|---|---|\n",
       "| naive_100ul_left_food_05percent | 32                              | \n",
       "| naive_100ul_left_food_extract   | 19                              | \n",
       "| naive_100ul_left_indole_100uM   | 20                              | \n",
       "| naive_100ul_left_indole_10mM    | 19                              | \n",
       "| naive_100ul_left_milliQ_water   | 16                              | \n",
       "| naive_100ul_left_o-cresol_100uM | 25                              | \n",
       "| naive_100ul_left_quinine_10mM   | 19                              | \n",
       "| naive_100ul_left_yeastRNA_1gL   | 18                              | \n",
       "\n",
       "\n"
      ],
      "text/plain": [
       "  Var1                            Freq\n",
       "1 naive_100ul_left_food_05percent 32  \n",
       "2 naive_100ul_left_food_extract   19  \n",
       "3 naive_100ul_left_indole_100uM   20  \n",
       "4 naive_100ul_left_indole_10mM    19  \n",
       "5 naive_100ul_left_milliQ_water   16  \n",
       "6 naive_100ul_left_o-cresol_100uM 25  \n",
       "7 naive_100ul_left_quinine_10mM   19  \n",
       "8 naive_100ul_left_yeastRNA_1gL   18  "
      ]
     },
     "metadata": {},
     "output_type": "display_data"
    },
    {
     "data": {
      "text/html": [
       "<table>\n",
       "<thead><tr><th scope=col>Var1</th><th scope=col>Freq</th></tr></thead>\n",
       "<tbody>\n",
       "\t<tr><td>f </td><td>79</td></tr>\n",
       "\t<tr><td>m </td><td>89</td></tr>\n",
       "</tbody>\n",
       "</table>\n"
      ],
      "text/latex": [
       "\\begin{tabular}{r|ll}\n",
       " Var1 & Freq\\\\\n",
       "\\hline\n",
       "\t f  & 79\\\\\n",
       "\t m  & 89\\\\\n",
       "\\end{tabular}\n"
      ],
      "text/markdown": [
       "\n",
       "Var1 | Freq | \n",
       "|---|---|\n",
       "| f  | 79 | \n",
       "| m  | 89 | \n",
       "\n",
       "\n"
      ],
      "text/plain": [
       "  Var1 Freq\n",
       "1 f    79  \n",
       "2 m    89  "
      ]
     },
     "metadata": {},
     "output_type": "display_data"
    },
    {
     "name": "stdout",
     "output_type": "stream",
     "text": [
      "Fed larvae:"
     ]
    },
    {
     "data": {
      "text/html": [
       "<table>\n",
       "<thead><tr><th scope=col>Var1</th><th scope=col>Freq</th></tr></thead>\n",
       "<tbody>\n",
       "\t<tr><td>naive_100ul_left_food_05percent</td><td>57                             </td></tr>\n",
       "\t<tr><td>naive_100ul_left_food_extract  </td><td>19                             </td></tr>\n",
       "\t<tr><td>naive_100ul_left_indole_100uM  </td><td>36                             </td></tr>\n",
       "\t<tr><td>naive_100ul_left_indole_10mM   </td><td>17                             </td></tr>\n",
       "\t<tr><td>naive_100ul_left_milliQ_water  </td><td>39                             </td></tr>\n",
       "\t<tr><td>naive_100ul_left_o-cresol_100uM</td><td>36                             </td></tr>\n",
       "\t<tr><td>naive_100ul_left_quinine_10mM  </td><td>24                             </td></tr>\n",
       "\t<tr><td>naive_100ul_left_yeastRNA_1gL  </td><td>20                             </td></tr>\n",
       "</tbody>\n",
       "</table>\n"
      ],
      "text/latex": [
       "\\begin{tabular}{r|ll}\n",
       " Var1 & Freq\\\\\n",
       "\\hline\n",
       "\t naive\\_100ul\\_left\\_food\\_05percent & 57                                     \\\\\n",
       "\t naive\\_100ul\\_left\\_food\\_extract   & 19                                     \\\\\n",
       "\t naive\\_100ul\\_left\\_indole\\_100uM   & 36                                     \\\\\n",
       "\t naive\\_100ul\\_left\\_indole\\_10mM    & 17                                     \\\\\n",
       "\t naive\\_100ul\\_left\\_milliQ\\_water   & 39                                     \\\\\n",
       "\t naive\\_100ul\\_left\\_o-cresol\\_100uM & 36                                     \\\\\n",
       "\t naive\\_100ul\\_left\\_quinine\\_10mM   & 24                                     \\\\\n",
       "\t naive\\_100ul\\_left\\_yeastRNA\\_1gL   & 20                                     \\\\\n",
       "\\end{tabular}\n"
      ],
      "text/markdown": [
       "\n",
       "Var1 | Freq | \n",
       "|---|---|---|---|---|---|---|---|\n",
       "| naive_100ul_left_food_05percent | 57                              | \n",
       "| naive_100ul_left_food_extract   | 19                              | \n",
       "| naive_100ul_left_indole_100uM   | 36                              | \n",
       "| naive_100ul_left_indole_10mM    | 17                              | \n",
       "| naive_100ul_left_milliQ_water   | 39                              | \n",
       "| naive_100ul_left_o-cresol_100uM | 36                              | \n",
       "| naive_100ul_left_quinine_10mM   | 24                              | \n",
       "| naive_100ul_left_yeastRNA_1gL   | 20                              | \n",
       "\n",
       "\n"
      ],
      "text/plain": [
       "  Var1                            Freq\n",
       "1 naive_100ul_left_food_05percent 57  \n",
       "2 naive_100ul_left_food_extract   19  \n",
       "3 naive_100ul_left_indole_100uM   36  \n",
       "4 naive_100ul_left_indole_10mM    17  \n",
       "5 naive_100ul_left_milliQ_water   39  \n",
       "6 naive_100ul_left_o-cresol_100uM 36  \n",
       "7 naive_100ul_left_quinine_10mM   24  \n",
       "8 naive_100ul_left_yeastRNA_1gL   20  "
      ]
     },
     "metadata": {},
     "output_type": "display_data"
    },
    {
     "data": {
      "text/html": [
       "<table>\n",
       "<thead><tr><th scope=col>Var1</th><th scope=col>Freq</th></tr></thead>\n",
       "<tbody>\n",
       "\t<tr><td>f  </td><td>120</td></tr>\n",
       "\t<tr><td>m  </td><td>128</td></tr>\n",
       "</tbody>\n",
       "</table>\n"
      ],
      "text/latex": [
       "\\begin{tabular}{r|ll}\n",
       " Var1 & Freq\\\\\n",
       "\\hline\n",
       "\t f   & 120\\\\\n",
       "\t m   & 128\\\\\n",
       "\\end{tabular}\n"
      ],
      "text/markdown": [
       "\n",
       "Var1 | Freq | \n",
       "|---|---|\n",
       "| f   | 120 | \n",
       "| m   | 128 | \n",
       "\n",
       "\n"
      ],
      "text/plain": [
       "  Var1 Freq\n",
       "1 f    120 \n",
       "2 m    128 "
      ]
     },
     "metadata": {},
     "output_type": "display_data"
    }
   ],
   "source": [
    "cat(\"Starved larvae:\")\n",
    "sub <- subset(data, A_starved==\"1day\")\n",
    "data.frame(table(sub$A_treatment_odor))\n",
    "\n",
    "sub <- subset(data, A_starved==\"1day\")\n",
    "data.frame(table(sub$A_sex))\n",
    "\n",
    "cat(\"Fed larvae:\")\n",
    "sub <- subset(data, A_starved==\"no\")\n",
    "data.frame(table(sub$A_treatment_odor))\n",
    "\n",
    "sub <- subset(data, A_starved==\"no\")\n",
    "data.frame(table(sub$A_sex))"
   ]
  },
  {
   "cell_type": "markdown",
   "metadata": {},
   "source": [
    "- Compare physiological (length) differences between males, females, and fed vs starved larvae"
   ]
  },
  {
   "cell_type": "code",
   "execution_count": 4,
   "metadata": {},
   "outputs": [
    {
     "name": "stdout",
     "output_type": "stream",
     "text": [
      "Number of tests ran: 4"
     ]
    }
   ],
   "source": [
    "# starved females vs fed females\n",
    "sub <- subset(data, A_sex==\"f\")\n",
    "sub1 <- subset(sub, A_starved==\"1day\")\n",
    "sub2 <- subset(sub, A_starved==\"no\")\n",
    "resp <- wilcox.test(sub1$A_larvae_length_mm, sub2$A_larvae_length_mm)\n",
    "p <- resp$p.value\n",
    "t <- \"f starved vs f fed size\"\n",
    "\n",
    "# starved males vs fed males\n",
    "sub <- subset(data, A_sex==\"m\")\n",
    "sub1 <- subset(sub, A_starved==\"1day\")\n",
    "sub2 <- subset(sub, A_starved==\"no\")\n",
    "resp <- wilcox.test(sub1$A_larvae_length_mm, sub2$A_larvae_length_mm)\n",
    "p <- c(p, resp$p.value)\n",
    "t <- c(t, \"m starved vs m fed size\")\n",
    "\n",
    "# starved females vs starved males\n",
    "sub <- subset(data, A_starved==\"1day\")\n",
    "sub1 <- subset(sub, A_sex==\"f\")\n",
    "sub2 <- subset(sub, A_sex==\"m\")\n",
    "resp <- wilcox.test(sub1$A_larvae_length_mm, sub2$A_larvae_length_mm)\n",
    "p <- c(p, resp$p.value)\n",
    "t <- c(t, \"m starved vs f starved size\")\n",
    "\n",
    "# fed females vs fed males\n",
    "sub <- subset(data, A_starved==\"no\")\n",
    "sub1 <- subset(sub, A_sex==\"f\")\n",
    "sub2 <- subset(sub, A_sex==\"m\")\n",
    "resp <- wilcox.test(sub1$A_larvae_length_mm, sub2$A_larvae_length_mm)\n",
    "p <- c(p, resp$p.value)\n",
    "t <- c(t, \"f fed vs m fed size\")\n",
    "\n",
    "cat(\"Number of tests ran:\", length(p))"
   ]
  },
  {
   "cell_type": "markdown",
   "metadata": {},
   "source": [
    "- Compare larval activity to time of day"
   ]
  },
  {
   "cell_type": "code",
   "execution_count": 5,
   "metadata": {},
   "outputs": [
    {
     "name": "stdout",
     "output_type": "stream",
     "text": [
      "Number of tests ran: 7"
     ]
    }
   ],
   "source": [
    "resp <- lm(data$A_time_move~data$A_minutes_past_L)\n",
    "r <- glance(resp)$p.value\n",
    "p <- c(p, r)\n",
    "t <- c(t, \"time moving by daylight regression\")\n",
    "\n",
    "resp <- lm(data$A_time_wall~data$A_minutes_past_L)\n",
    "r <- glance(resp)$p.value\n",
    "p <- c(p, r)\n",
    "t <- c(t, \"time next to wall by daylight regression\")\n",
    "\n",
    "resp <- lm(data$A_median_speed~data$A_minutes_past_L)\n",
    "r <- glance(resp)$p.value\n",
    "p <- c(p, r)\n",
    "t <- c(t, \"median speed by daylight regression\")\n",
    "\n",
    "cat(\"Number of tests ran:\", length(p))"
   ]
  },
  {
   "cell_type": "markdown",
   "metadata": {},
   "source": [
    "- Compare differences between fed and starved larvae in behavioral metrics"
   ]
  },
  {
   "cell_type": "code",
   "execution_count": 6,
   "metadata": {},
   "outputs": [
    {
     "name": "stdout",
     "output_type": "stream",
     "text": [
      "Number of tests ran: 9"
     ]
    }
   ],
   "source": [
    "sub1 <- subset(data, A_starved==\"1day\")\n",
    "sub2 <- subset(data, A_starved==\"no\")\n",
    "resp <- wilcox.test(sub1$A_time_move, sub2$A_time_move)\n",
    "p <- c(p, resp$p.value)\n",
    "t <- c(t, \"time moving by starvation state\")\n",
    "\n",
    "sub1 <- subset(data, A_starved==\"1day\")\n",
    "sub2 <- subset(data, A_starved==\"no\")\n",
    "resp <- wilcox.test(sub1$A_time_wall, sub2$A_time_wall)\n",
    "p <- c(p, resp$p.value)\n",
    "t <- c(t, \"time next to wall by starvation state\")\n",
    "\n",
    "cat(\"Number of tests ran:\", length(p))"
   ]
  },
  {
   "cell_type": "markdown",
   "metadata": {},
   "source": [
    "- Calculate the preference value for each stimulus for both fed and starved larvae"
   ]
  },
  {
   "cell_type": "code",
   "execution_count": 7,
   "metadata": {
    "scrolled": false
   },
   "outputs": [
    {
     "name": "stdout",
     "output_type": "stream",
     "text": [
      "Number of tests ran: 25"
     ]
    }
   ],
   "source": [
    "treatments <- c(\"naive_100ul_left_food_05percent\", \"naive_100ul_left_food_extract\", \n",
    "                \"naive_100ul_left_yeastRNA_1gL\", \"naive_100ul_left_quinine_10mM\",\n",
    "                \"naive_100ul_left_indole_100uM\", \"naive_100ul_left_o-cresol_100uM\", \n",
    "                \"naive_100ul_left_milliQ_water\", \"naive_100ul_left_indole_10mM\")\n",
    "\n",
    "for (fed in c(\"1day\", \"no\")){\n",
    "    for (treatment in treatments){\n",
    "        ss <- subset(data, A_treatment_odor==treatment)\n",
    "        ss <- subset(ss, A_starved==fed)\n",
    "        resp <- t.test(ss$A_median_conc, ss$E_median_conc, paired=TRUE, alternative=\"two.sided\")\n",
    "        p <- c(p, resp$p.value)\n",
    "        t <- c(t, paste(treatment, fed, \"paired test of median concentration\", sep=\" \"))}}\n",
    "\n",
    "cat(\"Number of tests ran:\", length(p))"
   ]
  },
  {
   "cell_type": "markdown",
   "metadata": {},
   "source": [
    "- Compare behavioral metrics for neutral, aversive, and appetitive cues"
   ]
  },
  {
   "cell_type": "code",
   "execution_count": 8,
   "metadata": {},
   "outputs": [
    {
     "name": "stdout",
     "output_type": "stream",
     "text": [
      "Number of tests ran: 32"
     ]
    }
   ],
   "source": [
    "data3 <- read.csv('./trajectories/summary/cleaned_animal_analyses_stimuli_groups.csv')\n",
    "data3$stimulus <- as.factor(data3$stimulus)\n",
    "\n",
    "resp <- kruskal.test(data3$median_conc_diff~data3$stimulus)\n",
    "p <- c(p, resp$p.value)\n",
    "t <- c(t, \"median concentration by odor\")\n",
    "\n",
    "resp <- kruskal.test(data3$cd_move_diff~data3$stimulus)\n",
    "p <- c(p, resp$p.value)\n",
    "t <- c(t, \"cd_move_diff by odor\")\n",
    "\n",
    "resp <- kruskal.test(data3$discovery_time_diff~data3$stimulus)\n",
    "p <- c(p, resp$p.value)\n",
    "t <- c(t, \"discovery_time by odor\")\n",
    "\n",
    "resp <- kruskal.test(data3$c_speed_diff~data3$stimulus)\n",
    "p <- c(p, resp$p.value)\n",
    "t <- c(t, \"c_speed_diff by odor\")\n",
    "\n",
    "resp <- kruskal.test(data3$cd_speed_diff~data3$stimulus)\n",
    "p <- c(p, resp$p.value)\n",
    "t <- c(t, \"cd_speed_diff by odor\")\n",
    "\n",
    "resp <- kruskal.test(data3$c_turn_diff~data3$stimulus)\n",
    "p <- c(p, resp$p.value)\n",
    "t <- c(t, \"c_turn_diff by odor\")\n",
    "\n",
    "resp <- kruskal.test(data3$cd_turn_diff~data3$stimulus)\n",
    "p <- c(p, resp$p.value)\n",
    "t <- c(t, \"cd_turn_diff by odor\")\n",
    "\n",
    "cat(\"Number of tests ran:\", length(p))"
   ]
  },
  {
   "cell_type": "markdown",
   "metadata": {},
   "source": [
    "- Compare the effect of larval presence on dye diffusion over time"
   ]
  },
  {
   "cell_type": "code",
   "execution_count": 9,
   "metadata": {},
   "outputs": [
    {
     "data": {
      "text/plain": [
       "\n",
       "Call:\n",
       "lm(formula = data$perc_over_50 ~ data$time + data$larva_presence)\n",
       "\n",
       "Residuals:\n",
       "     Min       1Q   Median       3Q      Max \n",
       "-0.12474 -0.02777  0.00568  0.02734  0.10630 \n",
       "\n",
       "Coefficients:\n",
       "                               Estimate Std. Error t value Pr(>|t|)    \n",
       "(Intercept)                   0.1415961  0.0054842  25.819  < 2e-16 ***\n",
       "data$time                    -0.0018729  0.0005519  -3.394 0.000777 ***\n",
       "data$larva_presenceno_larvae -0.0362318  0.0050881  -7.121 7.23e-12 ***\n",
       "---\n",
       "Signif. codes:  0 '***' 0.001 '**' 0.01 '*' 0.05 '.' 0.1 ' ' 1\n",
       "\n",
       "Residual standard error: 0.04551 on 317 degrees of freedom\n",
       "Multiple R-squared:  0.1641,\tAdjusted R-squared:  0.1588 \n",
       "F-statistic: 31.11 on 2 and 317 DF,  p-value: 4.603e-13\n"
      ]
     },
     "metadata": {},
     "output_type": "display_data"
    }
   ],
   "source": [
    "data <- read.csv(\"./fluorescein/larvae_no_larvae_comparison.csv\")\n",
    "data$larva_presence = as.factor(data$larva_presence)\n",
    "\n",
    "resp <- lm(data$perc_over_50 ~ data$time+data$larva_presence)\n",
    "summary(resp)\n",
    "p <- c(p, 2e-16)\n",
    "t <- c(t, \"regression larval presence time concentration: intercept\")\n",
    "p <- c(p, 0.000777)\n",
    "t <- c(t, \"regression larval presence time concentration: time\")\n",
    "p <- c(p, 7.23e-12)\n",
    "t <- c(t, \"regression larval presence time concentration: presence\")"
   ]
  },
  {
   "cell_type": "markdown",
   "metadata": {},
   "source": [
    "- Assess fit of the regression line used to fit distance to concentration for simulations"
   ]
  },
  {
   "cell_type": "code",
   "execution_count": 10,
   "metadata": {},
   "outputs": [
    {
     "data": {
      "text/plain": [
       "\n",
       "Call:\n",
       "lm(formula = data2$ln_conc ~ data2$distance_mm)\n",
       "\n",
       "Residuals:\n",
       "    Min      1Q  Median      3Q     Max \n",
       "-4.5566 -0.5366 -0.2004  0.4153  2.0556 \n",
       "\n",
       "Coefficients:\n",
       "                    Estimate Std. Error t value Pr(>|t|)    \n",
       "(Intercept)        4.8971198  0.0341109   143.6   <2e-16 ***\n",
       "data2$distance_mm -0.0804699  0.0007013  -114.7   <2e-16 ***\n",
       "---\n",
       "Signif. codes:  0 '***' 0.001 '**' 0.01 '*' 0.05 '.' 0.1 ' ' 1\n",
       "\n",
       "Residual standard error: 0.7115 on 2388 degrees of freedom\n",
       "Multiple R-squared:  0.8465,\tAdjusted R-squared:  0.8464 \n",
       "F-statistic: 1.316e+04 on 1 and 2388 DF,  p-value: < 2.2e-16\n"
      ]
     },
     "metadata": {},
     "output_type": "display_data"
    }
   ],
   "source": [
    "# See fit of regression line. The regression itself was done in Python. \n",
    "\n",
    "data2 <- read.csv(\"./fluorescein/distance_concentration_map_fitted.csv\")\n",
    "resp <- lm(data2$ln_conc~data2$distance_mm)\n",
    "           \n",
    "summary(resp)\n",
    "r <- glance(resp)$p.value\n",
    "p <- c(p, r)\n",
    "t <- c(t, \"Regression of distance vs concentration for 10 minutes\")"
   ]
  },
  {
   "cell_type": "markdown",
   "metadata": {},
   "source": [
    "- Adjust all tests using the Holm-Bonferroni correction"
   ]
  },
  {
   "cell_type": "code",
   "execution_count": 11,
   "metadata": {
    "scrolled": false
   },
   "outputs": [
    {
     "data": {
      "text/html": [
       "<table>\n",
       "<thead><tr><th scope=col>t</th><th scope=col>p</th><th scope=col>p...0.05</th></tr></thead>\n",
       "<tbody>\n",
       "\t<tr><td>f starved vs f fed size                                                 </td><td>1.050464e-06                                                            </td><td> TRUE                                                                   </td></tr>\n",
       "\t<tr><td>m starved vs m fed size                                                 </td><td>1.533720e-02                                                            </td><td> TRUE                                                                   </td></tr>\n",
       "\t<tr><td>m starved vs f starved size                                             </td><td>7.891945e-03                                                            </td><td> TRUE                                                                   </td></tr>\n",
       "\t<tr><td>f fed vs m fed size                                                     </td><td>3.622364e-10                                                            </td><td> TRUE                                                                   </td></tr>\n",
       "\t<tr><td>time moving by daylight regression                                      </td><td>1.000000e+00                                                            </td><td>FALSE                                                                   </td></tr>\n",
       "\t<tr><td>time next to wall by daylight regression                                </td><td>1.000000e+00                                                            </td><td>FALSE                                                                   </td></tr>\n",
       "\t<tr><td>median speed by daylight regression                                     </td><td>1.000000e+00                                                            </td><td>FALSE                                                                   </td></tr>\n",
       "\t<tr><td>time moving by starvation state                                         </td><td>2.112323e-14                                                            </td><td> TRUE                                                                   </td></tr>\n",
       "\t<tr><td>time next to wall by starvation state                                   </td><td>2.156391e-16                                                            </td><td> TRUE                                                                   </td></tr>\n",
       "\t<tr><td>naive_100ul_left_food_05percent 1day paired test of median concentration</td><td>2.932855e-09                                                            </td><td> TRUE                                                                   </td></tr>\n",
       "\t<tr><td>naive_100ul_left_food_extract 1day paired test of median concentration  </td><td>4.000754e-03                                                            </td><td> TRUE                                                                   </td></tr>\n",
       "\t<tr><td>naive_100ul_left_yeastRNA_1gL 1day paired test of median concentration  </td><td>4.667828e-02                                                            </td><td> TRUE                                                                   </td></tr>\n",
       "\t<tr><td>naive_100ul_left_quinine_10mM 1day paired test of median concentration  </td><td>1.885737e-08                                                            </td><td> TRUE                                                                   </td></tr>\n",
       "\t<tr><td>naive_100ul_left_indole_100uM 1day paired test of median concentration  </td><td>1.000000e+00                                                            </td><td>FALSE                                                                   </td></tr>\n",
       "\t<tr><td>naive_100ul_left_o-cresol_100uM 1day paired test of median concentration</td><td>1.000000e+00                                                            </td><td>FALSE                                                                   </td></tr>\n",
       "\t<tr><td>naive_100ul_left_milliQ_water 1day paired test of median concentration  </td><td>1.000000e+00                                                            </td><td>FALSE                                                                   </td></tr>\n",
       "\t<tr><td>naive_100ul_left_indole_10mM 1day paired test of median concentration   </td><td>2.765918e-01                                                            </td><td>FALSE                                                                   </td></tr>\n",
       "\t<tr><td>naive_100ul_left_food_05percent no paired test of median concentration  </td><td>1.000000e+00                                                            </td><td>FALSE                                                                   </td></tr>\n",
       "\t<tr><td>naive_100ul_left_food_extract no paired test of median concentration    </td><td>1.000000e+00                                                            </td><td>FALSE                                                                   </td></tr>\n",
       "\t<tr><td>naive_100ul_left_yeastRNA_1gL no paired test of median concentration    </td><td>1.000000e+00                                                            </td><td>FALSE                                                                   </td></tr>\n",
       "\t<tr><td>naive_100ul_left_quinine_10mM no paired test of median concentration    </td><td>2.733621e-03                                                            </td><td> TRUE                                                                   </td></tr>\n",
       "\t<tr><td>naive_100ul_left_indole_100uM no paired test of median concentration    </td><td>8.714638e-01                                                            </td><td>FALSE                                                                   </td></tr>\n",
       "\t<tr><td>naive_100ul_left_o-cresol_100uM no paired test of median concentration  </td><td>2.434296e-02                                                            </td><td> TRUE                                                                   </td></tr>\n",
       "\t<tr><td>naive_100ul_left_milliQ_water no paired test of median concentration    </td><td>1.000000e+00                                                            </td><td>FALSE                                                                   </td></tr>\n",
       "\t<tr><td>naive_100ul_left_indole_10mM no paired test of median concentration     </td><td>1.000000e+00                                                            </td><td>FALSE                                                                   </td></tr>\n",
       "\t<tr><td>median concentration by odor                                            </td><td>6.982408e-22                                                            </td><td> TRUE                                                                   </td></tr>\n",
       "\t<tr><td>cd_move_diff by odor                                                    </td><td>1.777728e-01                                                            </td><td>FALSE                                                                   </td></tr>\n",
       "\t<tr><td>discovery_time by odor                                                  </td><td>1.000000e+00                                                            </td><td>FALSE                                                                   </td></tr>\n",
       "\t<tr><td>c_speed_diff by odor                                                    </td><td>1.754512e-10                                                            </td><td> TRUE                                                                   </td></tr>\n",
       "\t<tr><td>cd_speed_diff by odor                                                   </td><td>1.000000e+00                                                            </td><td>FALSE                                                                   </td></tr>\n",
       "\t<tr><td>c_turn_diff by odor                                                     </td><td>1.000000e+00                                                            </td><td>FALSE                                                                   </td></tr>\n",
       "\t<tr><td>cd_turn_diff by odor                                                    </td><td>1.000000e+00                                                            </td><td>FALSE                                                                   </td></tr>\n",
       "\t<tr><td>regression larval presence time concentration: intercept                </td><td>6.600000e-15                                                            </td><td> TRUE                                                                   </td></tr>\n",
       "\t<tr><td>regression larval presence time concentration: time                     </td><td>1.631700e-02                                                            </td><td> TRUE                                                                   </td></tr>\n",
       "\t<tr><td>regression larval presence time concentration: presence                 </td><td>2.169000e-10                                                            </td><td> TRUE                                                                   </td></tr>\n",
       "\t<tr><td>Regression of distance vs concentration for 10 minutes                  </td><td>0.000000e+00                                                            </td><td> TRUE                                                                   </td></tr>\n",
       "</tbody>\n",
       "</table>\n"
      ],
      "text/latex": [
       "\\begin{tabular}{r|lll}\n",
       " t & p & p...0.05\\\\\n",
       "\\hline\n",
       "\t f starved vs f fed size                                                  & 1.050464e-06                                                             &  TRUE                                                                   \\\\\n",
       "\t m starved vs m fed size                                                  & 1.533720e-02                                                             &  TRUE                                                                   \\\\\n",
       "\t m starved vs f starved size                                              & 7.891945e-03                                                             &  TRUE                                                                   \\\\\n",
       "\t f fed vs m fed size                                                      & 3.622364e-10                                                             &  TRUE                                                                   \\\\\n",
       "\t time moving by daylight regression                                       & 1.000000e+00                                                             & FALSE                                                                   \\\\\n",
       "\t time next to wall by daylight regression                                 & 1.000000e+00                                                             & FALSE                                                                   \\\\\n",
       "\t median speed by daylight regression                                      & 1.000000e+00                                                             & FALSE                                                                   \\\\\n",
       "\t time moving by starvation state                                          & 2.112323e-14                                                             &  TRUE                                                                   \\\\\n",
       "\t time next to wall by starvation state                                    & 2.156391e-16                                                             &  TRUE                                                                   \\\\\n",
       "\t naive\\_100ul\\_left\\_food\\_05percent 1day paired test of median concentration & 2.932855e-09                                                                     &  TRUE                                                                           \\\\\n",
       "\t naive\\_100ul\\_left\\_food\\_extract 1day paired test of median concentration   & 4.000754e-03                                                                     &  TRUE                                                                           \\\\\n",
       "\t naive\\_100ul\\_left\\_yeastRNA\\_1gL 1day paired test of median concentration   & 4.667828e-02                                                                     &  TRUE                                                                           \\\\\n",
       "\t naive\\_100ul\\_left\\_quinine\\_10mM 1day paired test of median concentration   & 1.885737e-08                                                                     &  TRUE                                                                           \\\\\n",
       "\t naive\\_100ul\\_left\\_indole\\_100uM 1day paired test of median concentration   & 1.000000e+00                                                                     & FALSE                                                                           \\\\\n",
       "\t naive\\_100ul\\_left\\_o-cresol\\_100uM 1day paired test of median concentration & 1.000000e+00                                                                     & FALSE                                                                           \\\\\n",
       "\t naive\\_100ul\\_left\\_milliQ\\_water 1day paired test of median concentration   & 1.000000e+00                                                                     & FALSE                                                                           \\\\\n",
       "\t naive\\_100ul\\_left\\_indole\\_10mM 1day paired test of median concentration    & 2.765918e-01                                                                     & FALSE                                                                           \\\\\n",
       "\t naive\\_100ul\\_left\\_food\\_05percent no paired test of median concentration   & 1.000000e+00                                                                     & FALSE                                                                           \\\\\n",
       "\t naive\\_100ul\\_left\\_food\\_extract no paired test of median concentration     & 1.000000e+00                                                                     & FALSE                                                                           \\\\\n",
       "\t naive\\_100ul\\_left\\_yeastRNA\\_1gL no paired test of median concentration     & 1.000000e+00                                                                     & FALSE                                                                           \\\\\n",
       "\t naive\\_100ul\\_left\\_quinine\\_10mM no paired test of median concentration     & 2.733621e-03                                                                     &  TRUE                                                                           \\\\\n",
       "\t naive\\_100ul\\_left\\_indole\\_100uM no paired test of median concentration     & 8.714638e-01                                                                     & FALSE                                                                           \\\\\n",
       "\t naive\\_100ul\\_left\\_o-cresol\\_100uM no paired test of median concentration   & 2.434296e-02                                                                     &  TRUE                                                                           \\\\\n",
       "\t naive\\_100ul\\_left\\_milliQ\\_water no paired test of median concentration     & 1.000000e+00                                                                     & FALSE                                                                           \\\\\n",
       "\t naive\\_100ul\\_left\\_indole\\_10mM no paired test of median concentration      & 1.000000e+00                                                                     & FALSE                                                                           \\\\\n",
       "\t median concentration by odor                                             & 6.982408e-22                                                             &  TRUE                                                                   \\\\\n",
       "\t cd\\_move\\_diff by odor                                                     & 1.777728e-01                                                                 & FALSE                                                                       \\\\\n",
       "\t discovery\\_time by odor                                                   & 1.000000e+00                                                               & FALSE                                                                     \\\\\n",
       "\t c\\_speed\\_diff by odor                                                     & 1.754512e-10                                                                 &  TRUE                                                                       \\\\\n",
       "\t cd\\_speed\\_diff by odor                                                    & 1.000000e+00                                                                 & FALSE                                                                       \\\\\n",
       "\t c\\_turn\\_diff by odor                                                      & 1.000000e+00                                                                 & FALSE                                                                       \\\\\n",
       "\t cd\\_turn\\_diff by odor                                                     & 1.000000e+00                                                                 & FALSE                                                                       \\\\\n",
       "\t regression larval presence time concentration: intercept                 & 6.600000e-15                                                             &  TRUE                                                                   \\\\\n",
       "\t regression larval presence time concentration: time                      & 1.631700e-02                                                             &  TRUE                                                                   \\\\\n",
       "\t regression larval presence time concentration: presence                  & 2.169000e-10                                                             &  TRUE                                                                   \\\\\n",
       "\t Regression of distance vs concentration for 10 minutes                   & 0.000000e+00                                                             &  TRUE                                                                   \\\\\n",
       "\\end{tabular}\n"
      ],
      "text/markdown": [
       "\n",
       "t | p | p...0.05 | \n",
       "|---|---|---|---|---|---|---|---|---|---|---|---|---|---|---|---|---|---|---|---|---|---|---|---|---|---|---|---|---|---|---|---|---|---|---|---|\n",
       "| f starved vs f fed size                                                  | 1.050464e-06                                                             |  TRUE                                                                    | \n",
       "| m starved vs m fed size                                                  | 1.533720e-02                                                             |  TRUE                                                                    | \n",
       "| m starved vs f starved size                                              | 7.891945e-03                                                             |  TRUE                                                                    | \n",
       "| f fed vs m fed size                                                      | 3.622364e-10                                                             |  TRUE                                                                    | \n",
       "| time moving by daylight regression                                       | 1.000000e+00                                                             | FALSE                                                                    | \n",
       "| time next to wall by daylight regression                                 | 1.000000e+00                                                             | FALSE                                                                    | \n",
       "| median speed by daylight regression                                      | 1.000000e+00                                                             | FALSE                                                                    | \n",
       "| time moving by starvation state                                          | 2.112323e-14                                                             |  TRUE                                                                    | \n",
       "| time next to wall by starvation state                                    | 2.156391e-16                                                             |  TRUE                                                                    | \n",
       "| naive_100ul_left_food_05percent 1day paired test of median concentration | 2.932855e-09                                                             |  TRUE                                                                    | \n",
       "| naive_100ul_left_food_extract 1day paired test of median concentration   | 4.000754e-03                                                             |  TRUE                                                                    | \n",
       "| naive_100ul_left_yeastRNA_1gL 1day paired test of median concentration   | 4.667828e-02                                                             |  TRUE                                                                    | \n",
       "| naive_100ul_left_quinine_10mM 1day paired test of median concentration   | 1.885737e-08                                                             |  TRUE                                                                    | \n",
       "| naive_100ul_left_indole_100uM 1day paired test of median concentration   | 1.000000e+00                                                             | FALSE                                                                    | \n",
       "| naive_100ul_left_o-cresol_100uM 1day paired test of median concentration | 1.000000e+00                                                             | FALSE                                                                    | \n",
       "| naive_100ul_left_milliQ_water 1day paired test of median concentration   | 1.000000e+00                                                             | FALSE                                                                    | \n",
       "| naive_100ul_left_indole_10mM 1day paired test of median concentration    | 2.765918e-01                                                             | FALSE                                                                    | \n",
       "| naive_100ul_left_food_05percent no paired test of median concentration   | 1.000000e+00                                                             | FALSE                                                                    | \n",
       "| naive_100ul_left_food_extract no paired test of median concentration     | 1.000000e+00                                                             | FALSE                                                                    | \n",
       "| naive_100ul_left_yeastRNA_1gL no paired test of median concentration     | 1.000000e+00                                                             | FALSE                                                                    | \n",
       "| naive_100ul_left_quinine_10mM no paired test of median concentration     | 2.733621e-03                                                             |  TRUE                                                                    | \n",
       "| naive_100ul_left_indole_100uM no paired test of median concentration     | 8.714638e-01                                                             | FALSE                                                                    | \n",
       "| naive_100ul_left_o-cresol_100uM no paired test of median concentration   | 2.434296e-02                                                             |  TRUE                                                                    | \n",
       "| naive_100ul_left_milliQ_water no paired test of median concentration     | 1.000000e+00                                                             | FALSE                                                                    | \n",
       "| naive_100ul_left_indole_10mM no paired test of median concentration      | 1.000000e+00                                                             | FALSE                                                                    | \n",
       "| median concentration by odor                                             | 6.982408e-22                                                             |  TRUE                                                                    | \n",
       "| cd_move_diff by odor                                                     | 1.777728e-01                                                             | FALSE                                                                    | \n",
       "| discovery_time by odor                                                   | 1.000000e+00                                                             | FALSE                                                                    | \n",
       "| c_speed_diff by odor                                                     | 1.754512e-10                                                             |  TRUE                                                                    | \n",
       "| cd_speed_diff by odor                                                    | 1.000000e+00                                                             | FALSE                                                                    | \n",
       "| c_turn_diff by odor                                                      | 1.000000e+00                                                             | FALSE                                                                    | \n",
       "| cd_turn_diff by odor                                                     | 1.000000e+00                                                             | FALSE                                                                    | \n",
       "| regression larval presence time concentration: intercept                 | 6.600000e-15                                                             |  TRUE                                                                    | \n",
       "| regression larval presence time concentration: time                      | 1.631700e-02                                                             |  TRUE                                                                    | \n",
       "| regression larval presence time concentration: presence                  | 2.169000e-10                                                             |  TRUE                                                                    | \n",
       "| Regression of distance vs concentration for 10 minutes                   | 0.000000e+00                                                             |  TRUE                                                                    | \n",
       "\n",
       "\n"
      ],
      "text/plain": [
       "   t                                                                       \n",
       "1  f starved vs f fed size                                                 \n",
       "2  m starved vs m fed size                                                 \n",
       "3  m starved vs f starved size                                             \n",
       "4  f fed vs m fed size                                                     \n",
       "5  time moving by daylight regression                                      \n",
       "6  time next to wall by daylight regression                                \n",
       "7  median speed by daylight regression                                     \n",
       "8  time moving by starvation state                                         \n",
       "9  time next to wall by starvation state                                   \n",
       "10 naive_100ul_left_food_05percent 1day paired test of median concentration\n",
       "11 naive_100ul_left_food_extract 1day paired test of median concentration  \n",
       "12 naive_100ul_left_yeastRNA_1gL 1day paired test of median concentration  \n",
       "13 naive_100ul_left_quinine_10mM 1day paired test of median concentration  \n",
       "14 naive_100ul_left_indole_100uM 1day paired test of median concentration  \n",
       "15 naive_100ul_left_o-cresol_100uM 1day paired test of median concentration\n",
       "16 naive_100ul_left_milliQ_water 1day paired test of median concentration  \n",
       "17 naive_100ul_left_indole_10mM 1day paired test of median concentration   \n",
       "18 naive_100ul_left_food_05percent no paired test of median concentration  \n",
       "19 naive_100ul_left_food_extract no paired test of median concentration    \n",
       "20 naive_100ul_left_yeastRNA_1gL no paired test of median concentration    \n",
       "21 naive_100ul_left_quinine_10mM no paired test of median concentration    \n",
       "22 naive_100ul_left_indole_100uM no paired test of median concentration    \n",
       "23 naive_100ul_left_o-cresol_100uM no paired test of median concentration  \n",
       "24 naive_100ul_left_milliQ_water no paired test of median concentration    \n",
       "25 naive_100ul_left_indole_10mM no paired test of median concentration     \n",
       "26 median concentration by odor                                            \n",
       "27 cd_move_diff by odor                                                    \n",
       "28 discovery_time by odor                                                  \n",
       "29 c_speed_diff by odor                                                    \n",
       "30 cd_speed_diff by odor                                                   \n",
       "31 c_turn_diff by odor                                                     \n",
       "32 cd_turn_diff by odor                                                    \n",
       "33 regression larval presence time concentration: intercept                \n",
       "34 regression larval presence time concentration: time                     \n",
       "35 regression larval presence time concentration: presence                 \n",
       "36 Regression of distance vs concentration for 10 minutes                  \n",
       "   p            p...0.05\n",
       "1  1.050464e-06  TRUE   \n",
       "2  1.533720e-02  TRUE   \n",
       "3  7.891945e-03  TRUE   \n",
       "4  3.622364e-10  TRUE   \n",
       "5  1.000000e+00 FALSE   \n",
       "6  1.000000e+00 FALSE   \n",
       "7  1.000000e+00 FALSE   \n",
       "8  2.112323e-14  TRUE   \n",
       "9  2.156391e-16  TRUE   \n",
       "10 2.932855e-09  TRUE   \n",
       "11 4.000754e-03  TRUE   \n",
       "12 4.667828e-02  TRUE   \n",
       "13 1.885737e-08  TRUE   \n",
       "14 1.000000e+00 FALSE   \n",
       "15 1.000000e+00 FALSE   \n",
       "16 1.000000e+00 FALSE   \n",
       "17 2.765918e-01 FALSE   \n",
       "18 1.000000e+00 FALSE   \n",
       "19 1.000000e+00 FALSE   \n",
       "20 1.000000e+00 FALSE   \n",
       "21 2.733621e-03  TRUE   \n",
       "22 8.714638e-01 FALSE   \n",
       "23 2.434296e-02  TRUE   \n",
       "24 1.000000e+00 FALSE   \n",
       "25 1.000000e+00 FALSE   \n",
       "26 6.982408e-22  TRUE   \n",
       "27 1.777728e-01 FALSE   \n",
       "28 1.000000e+00 FALSE   \n",
       "29 1.754512e-10  TRUE   \n",
       "30 1.000000e+00 FALSE   \n",
       "31 1.000000e+00 FALSE   \n",
       "32 1.000000e+00 FALSE   \n",
       "33 6.600000e-15  TRUE   \n",
       "34 1.631700e-02  TRUE   \n",
       "35 2.169000e-10  TRUE   \n",
       "36 0.000000e+00  TRUE   "
      ]
     },
     "metadata": {},
     "output_type": "display_data"
    }
   ],
   "source": [
    "p <- p.adjust(p, method=method_n)\n",
    "d <- data.frame(t, p, p<0.05)\n",
    "d"
   ]
  },
  {
   "cell_type": "code",
   "execution_count": null,
   "metadata": {},
   "outputs": [],
   "source": []
  }
 ],
 "metadata": {
  "kernelspec": {
   "display_name": "R",
   "language": "R",
   "name": "ir"
  },
  "language_info": {
   "codemirror_mode": "r",
   "file_extension": ".r",
   "mimetype": "text/x-r-source",
   "name": "R",
   "pygments_lexer": "r",
   "version": "3.5.1"
  }
 },
 "nbformat": 4,
 "nbformat_minor": 2
}
