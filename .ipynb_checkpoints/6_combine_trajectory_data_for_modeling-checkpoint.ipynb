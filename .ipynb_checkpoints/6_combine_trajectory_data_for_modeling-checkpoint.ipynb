{
 "cells": [
  {
   "cell_type": "markdown",
   "metadata": {},
   "source": [
    "### Combine trajectory data\n",
    "#### List of tasks accomplished in this Jupyter Notebook:\n",
    "- Output 4 dataframe combining all animal trajectories: Fed animals acclimation phase, Fed animals experiment phase, Starved animals acclimation phase, and Starved animals experiment phase"
   ]
  },
  {
   "cell_type": "code",
   "execution_count": 1,
   "metadata": {
    "collapsed": true
   },
   "outputs": [],
   "source": [
    "import numpy as np\n",
    "import pandas as pd\n",
    "import eleanor_constants as EL"
   ]
  },
  {
   "cell_type": "code",
   "execution_count": 2,
   "metadata": {
    "scrolled": false
   },
   "outputs": [
    {
     "name": "stdout",
     "output_type": "stream",
     "text": [
      "--- All files finished ---\n"
     ]
    }
   ],
   "source": [
    "df = pd.read_csv(\"./data/experiment_IDs/cleaned_static_data.csv\")\n",
    "\n",
    "for val in [\"acclimate\", \"experiment\"]:\n",
    "    for food, tag in EL.fed.items():\n",
    "        df_food = df[df['starved'] == tag]\n",
    "        master_df = pd.DataFrame()\n",
    "\n",
    "        for index, row in df_food.iterrows():\n",
    "            animal = row[\"animal_ID\"]\n",
    "            readname = \"./data/trajectories/video_calculations/\"+animal+\"-\"+val+\".csv\"\n",
    "            temp = pd.read_csv(readname)\n",
    "            temp[\"animal_ID\"] = animal\n",
    "            temp[\"treatment_odor\"] = row[\"treatment_odor\"]\n",
    "            master_df = pd.concat([master_df, temp], sort=False)\n",
    "\n",
    "        master_df.drop([\"interpolated\", \"manual_tracker_fix\", \"objid\", \"pixel_height\", \"pixel_width\",\n",
    "                        \"measurement_x\", \"measurement_y\", \"position_x\", \"position_y\", \"bin_ID\", \n",
    "                        \"turn\", \"larvae_length_mm\", \n",
    "                        \"pos_x_mm\", \"pos_y_mm\"],\n",
    "                        axis=1, inplace=True)\n",
    "        master_df.to_csv(\"./data/trajectories/summary/modeling_\"+\\\n",
    "                         food+\"_\"+val+\"_all_animals.csv\", index=None)\n",
    "\n",
    "print(\"--- All files finished ---\")"
   ]
  },
  {
   "cell_type": "code",
   "execution_count": null,
   "metadata": {
    "collapsed": true
   },
   "outputs": [],
   "source": []
  }
 ],
 "metadata": {
  "kernelspec": {
   "display_name": "Python 3",
   "language": "python",
   "name": "python3"
  },
  "language_info": {
   "codemirror_mode": {
    "name": "ipython",
    "version": 3
   },
   "file_extension": ".py",
   "mimetype": "text/x-python",
   "name": "python",
   "nbconvert_exporter": "python",
   "pygments_lexer": "ipython3",
   "version": "3.7.3"
  }
 },
 "nbformat": 4,
 "nbformat_minor": 2
}
