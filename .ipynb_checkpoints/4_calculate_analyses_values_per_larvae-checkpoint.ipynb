{
 "cells": [
  {
   "cell_type": "markdown",
   "metadata": {},
   "source": [
    "### Calculate Analyses Values Per Larvae\n",
    "#### List of tasks accomplished in this Jupyter Notebook:\n",
    "- Calculate various characteristics of larval behavior including P, CS, CTI, etc.\n",
    "- Stack the acclimation and experiment dataframes horizontally for further analysis\n",
    "- After reviewing the preferences of larvae for each odor, assign each odor as Aversive, Apetitive, or Neutral. "
   ]
  },
  {
   "cell_type": "code",
   "execution_count": 1,
   "metadata": {
    "collapsed": true
   },
   "outputs": [],
   "source": [
    "import numpy as np\n",
    "import pandas as pd\n",
    "import math"
   ]
  },
  {
   "cell_type": "code",
   "execution_count": 2,
   "metadata": {
    "collapsed": true
   },
   "outputs": [],
   "source": [
    "df = pd.read_csv(\"./data/experiment_IDs/cleaned_static_data.csv\")\n",
    "\n",
    "animals = df[\"animal_ID\"].unique()\n",
    "# Check that animal IDs in dataframe are unique\n",
    "assert len(df) == len(animals)"
   ]
  },
  {
   "cell_type": "code",
   "execution_count": 3,
   "metadata": {
    "collapsed": true
   },
   "outputs": [],
   "source": [
    "def safe_divide(x, y):\n",
    "    x = safe_get(x)\n",
    "    y = safe_get(y)\n",
    "    try: \n",
    "        ans = x / y\n",
    "    except ZeroDivisionError: \n",
    "        return 0\n",
    "    return ans\n",
    "    \n",
    "def safe_get(x, ans=0):\n",
    "    if math.isnan(x):\n",
    "        return ans\n",
    "    return x"
   ]
  },
  {
   "cell_type": "markdown",
   "metadata": {},
   "source": [
    "- Calculate various characteristics of larval behavior including P, CS, CTI, etc."
   ]
  },
  {
   "cell_type": "code",
   "execution_count": 4,
   "metadata": {
    "collapsed": true
   },
   "outputs": [],
   "source": [
    "for val in [\"acclimate\", \"experiment\"]:\n",
    "    master_df = pd.DataFrame()\n",
    "\n",
    "    for index, row in df.iterrows():\n",
    "        filename = \"./data/trajectories/video_calculations/\"+row[\"animal_ID\"]+\"-\"+val+\".csv\"\n",
    "        \n",
    "        temp = pd.read_csv(filename)\n",
    "        temp_move = temp[temp[\"moving\"] == True]\n",
    "        \n",
    "        ############# CALCULATIONS OVER ALL DATA POINTS #############\n",
    "        \n",
    "        # MEDIAN CONCENTRATION -----------------------------\n",
    "        median_conc = safe_get(temp[\"concentration\"].median())\n",
    "\n",
    "        # MEDIAN SPEED IN BODY LENGTHS ---------------------\n",
    "        median_speed = safe_divide(temp_move[\"speed_mm_s\"].median(), row[\"larvae_length_mm\"])\n",
    "        \n",
    "        # % TIME SPENT MOVING ------------------------------\n",
    "        time_move = safe_divide(len(temp_move), len(temp))\n",
    "\n",
    "        # % TIME SPENT NEXT TO AT LEAST 1 WALL -------------\n",
    "        time_wall = safe_get(temp[\"wall\"].mean())\n",
    "        \n",
    "        # DISCOVERY TIME IN SECONDS ------------------------\n",
    "        if len(temp[temp[\"concentration\"] >= 50]) > 0:\n",
    "            discovery_time = safe_divide(temp[temp[\"concentration\"] >= 50][\"frames\"].values[0], 2) # 2 fps\n",
    "        else:\n",
    "            discovery_time = 900\n",
    "        \n",
    "        ############# CALCULATIONS OVER CONCENTRATION THRESHOLDS #############\n",
    "        \n",
    "        # Divide up into thresholds for concentration and concentration differences\n",
    "        high = temp[temp[\"concentration\"] >= 50]\n",
    "        low = temp[temp[\"concentration\"] < 50]\n",
    "        up = temp[temp[\"concentration_delta\"] >= 1]\n",
    "        down = temp[temp[\"concentration_delta\"] <= -1]\n",
    "        \n",
    "        high_move = high[high[\"moving\"] == True]\n",
    "        low_move = low[low[\"moving\"] == True]\n",
    "        up_move = up[up[\"moving\"] == True]\n",
    "        down_move = down[down[\"moving\"] == True]\n",
    "\n",
    "        # % TIME SPENT MOVING UP/DOWN ----------------------\n",
    "        # concentration change dependent\n",
    "        cd_move = safe_divide(len(up_move)-len(down_move), len(up_move)+len(down_move))\n",
    "\n",
    "        # SPEED IN BODY LENGTHS ----------------------------\n",
    "        # concentration change dependent\n",
    "        up_speed = safe_divide(up_move[\"speed_mm_s\"].median(), row[\"larvae_length_mm\"])\n",
    "        down_speed = safe_divide(down_move[\"speed_mm_s\"].median(), row[\"larvae_length_mm\"])\n",
    "        cd_speed = up_speed - down_speed\n",
    "        # concentration dependent\n",
    "        high_speed = safe_divide(high_move[\"speed_mm_s\"].median(), row[\"larvae_length_mm\"])\n",
    "        low_speed = safe_divide(low_move[\"speed_mm_s\"].median(), row[\"larvae_length_mm\"])\n",
    "        c_speed = high_speed - low_speed\n",
    "\n",
    "        # TURN INCIDENCE -----------------------------------\n",
    "        # concentration change dependent\n",
    "        up_turns = safe_get(up_move[\"turn\"].mean())\n",
    "        down_turns = safe_get(down_move[\"turn\"].mean())\n",
    "        cd_turn = up_turns - down_turns\n",
    "        # concentration dependent\n",
    "        high_turns = safe_get(high_move[\"turn\"].mean())\n",
    "        low_turns = safe_get(low_move[\"turn\"].mean())\n",
    "        c_turn = high_turns - low_turns\n",
    "\n",
    "        temp = pd.DataFrame({# STATIC VARIABLES --------------------------\n",
    "                            \"animal_ID\": [row[\"animal_ID\"]], \n",
    "                            \"treatment_odor\": row[\"treatment_odor\"],\n",
    "                            \"larvae_length_mm\": row[\"larvae_length_mm\"], \n",
    "                            \"minutes_past_L\": row[\"minutes_past_L\"], \n",
    "                            \"starved\": row[\"starved\"],\n",
    "                            \"sex\": row[\"sex\"], \n",
    "\n",
    "                            # VARIABLES CALCULATED FOR ENTIRE TIME -------\n",
    "                            \"median_conc\": median_conc, \n",
    "                            \"median_speed\": median_speed,\n",
    "                            \"time_move\": time_move,\n",
    "                            \"time_wall\": time_wall, \n",
    "                            \"discovery_time\": discovery_time,\n",
    "\n",
    "                            # CONCENTRATION VARIABLES --------------------\n",
    "                            \"cd_move\": cd_move, \n",
    "                            \"cd_speed\": cd_speed, \n",
    "                            \"c_speed\": c_speed, \n",
    "                            \"cd_turn\": cd_turn, \n",
    "                            \"c_turn\": c_turn\n",
    "\n",
    "                             })\n",
    "        master_df = pd.concat([master_df, temp])\n",
    "\n",
    "    master_df.to_csv('./data/trajectories/summary/cleaned_animal_analyses_'+val+'.csv', index=False)"
   ]
  },
  {
   "cell_type": "markdown",
   "metadata": {},
   "source": [
    "- Stack the acclimation and experiment dataframes horizontally for further analysis"
   ]
  },
  {
   "cell_type": "code",
   "execution_count": 5,
   "metadata": {
    "collapsed": true
   },
   "outputs": [],
   "source": [
    "acc = pd.read_csv('./data/trajectories/summary/cleaned_animal_analyses_acclimate.csv')\n",
    "exp = pd.read_csv('./data/trajectories/summary/cleaned_animal_analyses_experiment.csv')\n",
    "\n",
    "# Remove static data from one of the dataframes\n",
    "exp.drop([\"sex\", \"larvae_length_mm\", \"minutes_past_L\", \"starved\", \"treatment_odor\"], inplace=True, axis=1)\n",
    "\n",
    "# Rename the dataframe columns to mark acclimation or experiment\n",
    "acc.columns = \"A_\"+acc.columns\n",
    "exp.columns = \"E_\"+exp.columns\n",
    "\n",
    "assert len(acc) == len(exp)\n",
    "assert set(acc[\"A_animal_ID\"]) == set(exp[\"E_animal_ID\"])\n",
    "\n",
    "df = pd.concat([acc.set_index(\"A_animal_ID\"), exp.set_index(\"E_animal_ID\")], axis=1)\n",
    "assert len(df) == len(acc)\n",
    "\n",
    "df[\"median_conc_diff\"] = df[\"E_median_conc\"] - df[\"A_median_conc\"] \n",
    "df[\"c_speed_diff\"] = df[\"E_c_speed\"] - df[\"A_c_speed\"] \n",
    "df[\"c_turn_diff\"] = df[\"E_c_turn\"] - df[\"A_c_turn\"] \n",
    "df[\"cd_turn_diff\"] = df[\"E_cd_turn\"] - df[\"A_cd_turn\"] \n",
    "df[\"cd_move_diff\"] = df[\"E_cd_move\"] - df[\"A_cd_move\"] \n",
    "df[\"cd_speed_diff\"] = df[\"E_cd_speed\"] - df[\"A_cd_speed\"] \n",
    "df[\"discovery_time_diff\"] = df[\"E_discovery_time\"] - df[\"A_discovery_time\"] \n",
    "\n",
    "df.to_csv('./data/trajectories/summary/cleaned_animal_analyses.csv', index=False)"
   ]
  },
  {
   "cell_type": "markdown",
   "metadata": {},
   "source": [
    "- After reviewing the preferences of larvae for each odor, assign each odor as Aversive, Apetitive, or Neutral. "
   ]
  },
  {
   "cell_type": "code",
   "execution_count": 6,
   "metadata": {
    "collapsed": true
   },
   "outputs": [],
   "source": [
    "df = pd.read_csv(\"./data/trajectories/summary/cleaned_animal_analyses.csv\")\n",
    "df[\"stimulus\"] = df[\"A_treatment_odor\"]\n",
    "\n",
    "# Starved animals\n",
    "df_str = df[df[\"A_starved\"] == '1day'].copy()\n",
    "df_str[\"stimulus\"] = df_str[\"stimulus\"].replace({\"naive_100ul_left_quinine_10mM\": \"Aversive\", \n",
    "                                         \"naive_100ul_left_food_extract\": \"Appetitive\",\n",
    "                                         \"naive_100ul_left_indole_10mM\": \"Neutral\", \n",
    "                                         \"naive_100ul_left_food_05percent\": \"Appetitive\",\n",
    "                                         \"naive_100ul_left_indole_100uM\": \"Neutral\",\n",
    "                                         \"naive_100ul_left_milliQ_water\": \"Neutral\",\n",
    "                                         \"naive_100ul_left_o-cresol_100uM\": \"Neutral\",\n",
    "                                         \"naive_100ul_left_yeastRNA_1gL\": \"Appetitive\",\n",
    "                                         \"naive_100ul_left_glucose_10gL\": \"Neutral\",\n",
    "                                         \"naive_100ul_left_amino_acids\": \"Neutral\"\n",
    "                                        })\n",
    "\n",
    "# Fed animals\n",
    "df_fed = df[df[\"A_starved\"] == 'no'].copy()\n",
    "df_fed[\"stimulus\"] = df_fed[\"stimulus\"].replace({\"naive_100ul_left_quinine_10mM\": \"Aversive\", \n",
    "                                         \"naive_100ul_left_food_extract\": \"Neutral\",\n",
    "                                         \"naive_100ul_left_indole_10mM\": \"Neutral\", \n",
    "                                         \"naive_100ul_left_food_05percent\": \"Neutral\",\n",
    "                                         \"naive_100ul_left_indole_100uM\": \"Neutral\",\n",
    "                                         \"naive_100ul_left_milliQ_water\": \"Neutral\",\n",
    "                                         \"naive_100ul_left_o-cresol_100uM\": \"Aversive\",\n",
    "                                         \"naive_100ul_left_yeastRNA_1gL\": \"Neutral\",\n",
    "                                         \"naive_100ul_left_glucose_10gL\": \"Neutral\",\n",
    "                                         \"naive_100ul_left_amino_acids\": \"Neutral\"\n",
    "                                        })\n",
    "\n",
    "df = pd.concat([df_fed, df_str])\n",
    "df.to_csv(\"./data/trajectories/summary/cleaned_animal_analyses_stimuli_groups.csv\", index=False)"
   ]
  },
  {
   "cell_type": "code",
   "execution_count": null,
   "metadata": {
    "collapsed": true
   },
   "outputs": [],
   "source": []
  }
 ],
 "metadata": {
  "kernelspec": {
   "display_name": "Python 3",
   "language": "python",
   "name": "python3"
  },
  "language_info": {
   "codemirror_mode": {
    "name": "ipython",
    "version": 3
   },
   "file_extension": ".py",
   "mimetype": "text/x-python",
   "name": "python",
   "nbconvert_exporter": "python",
   "pygments_lexer": "ipython3",
   "version": "3.7.3"
  }
 },
 "nbformat": 4,
 "nbformat_minor": 2
}
