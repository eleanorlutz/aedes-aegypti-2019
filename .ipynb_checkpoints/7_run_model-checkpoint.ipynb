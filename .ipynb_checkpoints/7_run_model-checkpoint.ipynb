{
 "cells": [
  {
   "cell_type": "markdown",
   "metadata": {},
   "source": [
    "### Run models\n",
    "#### List of tasks accomplished in this Jupyter Notebook:\n",
    "- Run simulation tasks using empirical data from starved animals\n",
    "- Run simulation tasks using empirical data from fed animals"
   ]
  },
  {
   "cell_type": "code",
   "execution_count": null,
   "metadata": {
    "collapsed": true
   },
   "outputs": [],
   "source": [
    "import numpy as np\n",
    "import pandas as pd\n",
    "import math, random\n",
    "import time as ti\n",
    "from copy import deepcopy\n",
    "\n",
    "t0 = ti.time()\n",
    "print(ti.strftime(\"%a, %d %b %Y %H:%M\", ti.gmtime()))"
   ]
  },
  {
   "cell_type": "code",
   "execution_count": null,
   "metadata": {
    "collapsed": true
   },
   "outputs": [],
   "source": [
    "# DECLARE CONSTANT VARIABLES USED IN ALL SIMULATIONS\n",
    "\n",
    "widths = np.arange(50, 201, 10) # Container widths to be tested, in mm. \n",
    "n_trials = 1000 # Number of simulations (each simulation starts in a randomized location)\n",
    "\n",
    "# DECLARE ADDITIONAL WIDTHS FOR REVIEWER COMMENTS\n",
    "widths = [500, 1000, 1500]\n",
    "n_trials = 1000"
   ]
  },
  {
   "cell_type": "code",
   "execution_count": null,
   "metadata": {
    "collapsed": true
   },
   "outputs": [],
   "source": [
    "# SIMULATED CHEMOKINESIS FUNCTION\n",
    "\n",
    "def chemokinesis(movedf, width, radius_food, food_x, food_y, origin):\n",
    "    '''\n",
    "    Explore the arena until finding the food source. \n",
    "    Returns time spent searching (in seconds) and trajectory path (xlist, ylist)\n",
    "    \n",
    "    Model changes speed based on absolute concentration. \n",
    "    '''\n",
    "    # Split the given speedlist into half by speed\n",
    "    movedf_sorted = movedf.sort_values(by=[\"speed\"], axis=0, ascending=True)\n",
    "    movedf_sorted.reset_index(inplace=True)\n",
    "    split_index = int(len(movedf_sorted)/2)\n",
    "    slow_df = movedf_sorted.iloc[0:split_index].copy()\n",
    "    fast_df = movedf_sorted.iloc[split_index:].copy()\n",
    "\n",
    "    finish_check = False # Check if the food has been reached\n",
    "    valid_check = False # Check if current position is within arena bounds\n",
    "    \n",
    "    if origin == None:\n",
    "        while valid_check == False:\n",
    "            x0, y0 = np.random.uniform(0, width), np.random.uniform(0, width)\n",
    "            valid_check = check_if_valid(x0, y0, width)\n",
    "    else:\n",
    "        x0, y0 = origin[0], origin[1]\n",
    "\n",
    "    xlist, ylist, prev_angle = [x0], [y0], random.uniform(0, 360)\n",
    "    finish_check = check_if_done(x0, y0, radius_food, food_x, food_y)\n",
    "    \n",
    "    # Continue moving until food has been found\n",
    "    while finish_check == False:\n",
    "        valid_check = False\n",
    "        \n",
    "        curr_concentration = get_concentration(x0, y0, width/2, radius_food, food_x, food_y)\n",
    "        p = get_prob(curr_concentration)\n",
    "        \n",
    "        while valid_check == False:\n",
    "            p_rand = np.random.uniform(0, 100)\n",
    "            if p_rand <= p:\n",
    "                rand = slow_df.sample(n=1)\n",
    "                stepsize = rand['speed'].values[0]\n",
    "                angsize = rand['angle_delta'].values[0]\n",
    "                angle = get_angle(angsize, prev_angle)\n",
    "            else:\n",
    "                rand = fast_df.sample(n=1)\n",
    "                stepsize = rand['speed'].values[0]\n",
    "                angsize = rand['angle_delta'].values[0]\n",
    "                angle = get_angle(angsize, prev_angle)\n",
    "\n",
    "            x1, y1 = get_next_xy(x0, y0, angle, stepsize)\n",
    "            valid_check = check_if_valid(x1, y1, width)\n",
    "\n",
    "        xlist.append(x1)\n",
    "        ylist.append(y1)\n",
    "\n",
    "        x0, y0 = deepcopy(x1), deepcopy(y1) # update saved previous point \n",
    "        prev_angle = deepcopy(angle)\n",
    "        curr_concentration = get_concentration(x0, y0, width/2, radius_food, food_x, food_y)\n",
    "        finish_check = check_if_done(x0, y0, radius_food, food_x, food_y)\n",
    "        \n",
    "    return(len(xlist)/2, xlist, ylist)"
   ]
  },
  {
   "cell_type": "code",
   "execution_count": null,
   "metadata": {
    "collapsed": true
   },
   "outputs": [],
   "source": [
    "# HELPER FUNCTIONS FOR CHEMOKINESIS MODEL\n",
    "\n",
    "def check_if_valid(x, y, width):\n",
    "    ''' Returns bool whether or not this point is valid '''\n",
    "    radius = width/2\n",
    "    leg1 = np.abs(radius-y)\n",
    "    leg2 = np.abs(radius-x)\n",
    "    distance = np.hypot(leg1, leg2)\n",
    "    if distance > radius:\n",
    "        return False\n",
    "    return True\n",
    "\n",
    "def get_prob(c):\n",
    "    ''' Returns the probability of choosing the preferred dataset\n",
    "        as a function of concentration. \n",
    "    '''\n",
    "    c = max(1e-12, c)\n",
    "    c = min(100-1e-12, c)\n",
    "    p = 100/(1+np.exp(-0.25*(c-50)))\n",
    "    return p\n",
    "\n",
    "def get_angle(angsize, prev_angle):\n",
    "    ''' Returns random angle between 0 and 360 '''\n",
    "    return prev_angle + angsize\n",
    "\n",
    "def get_next_xy(x0, y0, angle, stepsize):\n",
    "    ''' Return next point as a function of angle and speed '''\n",
    "    radian = np.deg2rad(angle)\n",
    "    x1 = x0 + stepsize * math.cos(radian)\n",
    "    y1 = y0 + stepsize * math.sin(radian)\n",
    "    return x1, y1\n",
    "\n",
    "def check_if_done(x0, y0, radius_food, food_x, food_y):\n",
    "    ''' Returns true if the animal has found the food '''\n",
    "    leg1 = np.abs(food_x-x0)\n",
    "    leg2 = np.abs(food_y-y0)\n",
    "    distance = np.hypot(leg1, leg2)\n",
    "    if distance <= radius_food:\n",
    "        return True\n",
    "    return False\n",
    "\n",
    "def get_concentration_based_on_distance(distance, a, b):\n",
    "    ''' Use best fit line to return concentration estimate '''\n",
    "    if distance <= 0:\n",
    "        c = 100\n",
    "    elif distance <= np.hypot(80, 30):\n",
    "        c = np.exp(b)*np.exp(a*distance)\n",
    "    else:\n",
    "        c = 0\n",
    "    return(c)\n",
    "\n",
    "def get_concentration(x, y, radius, radius_food, food_x, food_y, \n",
    "                      a=-0.08046986117494856, b=4.897119830335053):\n",
    "    leg1 = np.abs(food_x-x)\n",
    "    leg2 = np.abs(food_y-y)\n",
    "    distance = np.hypot(leg1, leg2)\n",
    "    distance = distance-radius_food \n",
    "    c = get_concentration_based_on_distance(distance, a, b)\n",
    "    return(c)\n",
    "\n",
    "def get_radius_food(width, perc_area=0.03):\n",
    "    '''\n",
    "    perc_area = proportion of arena that should be taken up by food. width = width of arena. \n",
    "    '''\n",
    "    r = width/2\n",
    "    arena_a = math.pi * r * r\n",
    "    food_a = arena_a * perc_area\n",
    "    food_r = np.sqrt(food_a / math.pi)\n",
    "    return food_r\n",
    "\n",
    "def run_simulations(n_trials, widths, savename, movedf, function, origin=None):\n",
    "    # Initialize DF to save values into\n",
    "    colnames = [str(int(x)) for x in widths]\n",
    "    rownames = np.arange(0, n_trials)\n",
    "    rownames = [str(int(x))+'_trial' for x in rownames]\n",
    "    df_out = pd.DataFrame(index=rownames, columns=colnames)\n",
    "    \n",
    "    for width in widths: \n",
    "        tlist = []\n",
    "        radius_food = get_radius_food(width)\n",
    "        food_x = width/2 # x position of food center\n",
    "        food_y = width/2 # y position of food center\n",
    "\n",
    "        for n in range(n_trials):\n",
    "            timecount, xlist, ylist = function(movedf, width, radius_food, food_x, food_y, origin)\n",
    "            tlist.append(timecount)\n",
    "\n",
    "        df_out[str(width)] = tlist\n",
    "\n",
    "    df_out.to_csv(savename, index=False)\n",
    "    df_out.head()"
   ]
  },
  {
   "cell_type": "markdown",
   "metadata": {},
   "source": [
    "- Run simulation tasks using empirical data from starved animals"
   ]
  },
  {
   "cell_type": "code",
   "execution_count": null,
   "metadata": {
    "collapsed": true
   },
   "outputs": [],
   "source": [
    "df = pd.read_csv(\"./data/trajectories/summary/modeling_Starved_acclimate_all_animals.csv\")\n",
    "df.dropna(subset=['angle_delta', 'speed_mm_s'], inplace=True, axis=0)\n",
    "df['speed'] = df['speed_mm_s']/2\n",
    "print(\"Mean angle delta:\", round(np.mean(df['angle_delta'].tolist()), 2))\n",
    "print(\"Mean speed (mm/f):\", round(np.mean(df['speed'].tolist()), 2))\n",
    "\n",
    "savename = \"./data/simulation_results/\"+str(n_trials)+\"_simulations_starved_large.csv\"\n",
    "print(ti.strftime(\"%a, %d %b %Y %H:%M\", ti.gmtime()))\n",
    "run_simulations(n_trials, widths, savename, df, chemokinesis)\n",
    "elapsed = ti.time()-t0\n",
    "t0 = ti.time()\n",
    "print(\"Finished with\", n_trials, \"simulations for starved animals\", str(elapsed), \"seconds\")"
   ]
  },
  {
   "cell_type": "markdown",
   "metadata": {},
   "source": [
    "- Run simulation tasks using empirical data from fed animals"
   ]
  },
  {
   "cell_type": "code",
   "execution_count": null,
   "metadata": {
    "collapsed": true
   },
   "outputs": [],
   "source": [
    "df = pd.read_csv(\"./data/trajectories/summary/modeling_Fed_acclimate_all_animals.csv\")\n",
    "df.dropna(subset=['angle_delta', 'speed_mm_s'], inplace=True, axis=0)\n",
    "df['speed'] = df['speed_mm_s']/2\n",
    "print(\"Mean angle delta:\", round(np.mean(df['angle_delta'].tolist()), 2))\n",
    "print(\"Mean speed (mm/f):\", round(np.mean(df['speed'].tolist()), 2))\n",
    "\n",
    "savename = \"./data/simulation_results/\"+str(n_trials)+\"_simulations_fed_large.csv\"\n",
    "print(ti.strftime(\"%a, %d %b %Y %H:%M\", ti.gmtime()))\n",
    "run_simulations(n_trials, widths, savename, df, chemokinesis)\n",
    "elapsed = ti.time()-t0\n",
    "t0 = ti.time()\n",
    "print(\"Finished with\", n_trials, \"simulations for fed animals\", str(elapsed), \"seconds\")"
   ]
  },
  {
   "cell_type": "code",
   "execution_count": null,
   "metadata": {
    "collapsed": true
   },
   "outputs": [],
   "source": []
  }
 ],
 "metadata": {
  "kernelspec": {
   "display_name": "Python 3",
   "language": "python",
   "name": "python3"
  },
  "language_info": {
   "codemirror_mode": {
    "name": "ipython",
    "version": 3
   },
   "file_extension": ".py",
   "mimetype": "text/x-python",
   "name": "python",
   "nbconvert_exporter": "python",
   "pygments_lexer": "ipython3",
   "version": "3.7.3"
  }
 },
 "nbformat": 4,
 "nbformat_minor": 2
}
