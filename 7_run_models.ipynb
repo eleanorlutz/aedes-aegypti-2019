{
 "cells": [
  {
   "cell_type": "markdown",
   "metadata": {},
   "source": [
    "### Run models\n",
    "#### List of tasks accomplished in this Jupyter Notebook:\n",
    "- Run simulation tasks using empirical data from starved animals\n",
    "- Run simulation tasks using empirical data from fed animals"
   ]
  },
  {
   "cell_type": "code",
   "execution_count": 1,
   "metadata": {
    "collapsed": true
   },
   "outputs": [],
   "source": [
    "import numpy as np\n",
    "import pandas as pd\n",
    "\n",
    "import A_model_diagnostics as A\n",
    "import B_model_foraging_task as B\n",
    "import C_model_toxin_avoidance_task as C\n",
    "import os \n",
    "\n",
    "import time as ti\n",
    "t0 = ti.time()"
   ]
  },
  {
   "cell_type": "code",
   "execution_count": 2,
   "metadata": {
    "collapsed": true
   },
   "outputs": [],
   "source": [
    "# DECLARE CONSTANT VARIABLES USED IN ALL SIMULATIONS\n",
    "# Container widths to be tested, in mm. \n",
    "widths = np.arange(30, 201, 10)\n",
    "\n",
    "n_trials = 1000 # Number of simulations (each simulation starts in a randomized location)\n",
    "sensitivities = [10, 0.1, 0.01] # Chemical sensitivities (0-100%) to test, other than default of 1\n",
    "s_default = 1\n",
    "sense_analysis = True\n",
    "\n",
    "# MODELS TO TEST FOR ALL EMPIRICAL DATASETS\n",
    "funcs = { B.orthokinesis: \"orthokinesis\", \n",
    "          B.klinokinesis: \"klinokinesis\", \n",
    "          B.chemotaxis: \"chemotaxis_1\", \n",
    "          B.anosmic: \"anosmic\",\n",
    "          C.anosmic_averse: \"anosmic_averse\", \n",
    "          C.orthokinesis_averse: \"orthokinesis_averse\", \n",
    "          C.klinokinesis_averse: \"klinokinesis_averse\",\n",
    "          C.chemotaxis_averse: \"chemotaxis_averse_1\"\n",
    "        }\n",
    "\n",
    "# Functions that should be tested at additional sensitivities (to % chemical)\n",
    "chem_funcs = { B.chemotaxis: \"chemotaxis\", C.chemotaxis_averse: \"chemotaxis_averse\"}"
   ]
  },
  {
   "cell_type": "markdown",
   "metadata": {},
   "source": [
    "- Run simulation tasks using empirical data from starved animals"
   ]
  },
  {
   "cell_type": "code",
   "execution_count": 3,
   "metadata": {},
   "outputs": [
    {
     "name": "stdout",
     "output_type": "stream",
     "text": [
      "Mean angle delta: 0.23\n",
      "Mean speed (mm/f): 1.3\n",
      "Finished with 1000 simulations for orthokinesis 1925.6215107440948 seconds\n",
      "Finished with 1000 simulations for klinokinesis 529.8685572147369 seconds\n",
      "Finished with 1000 simulations for chemotaxis_1 177.64994716644287 seconds\n",
      "Finished with 1000 simulations for anosmic 543.3276727199554 seconds\n",
      "Finished with 1000 simulations for anosmic_averse 967.3984651565552 seconds\n",
      "Finished with 1000 simulations for orthokinesis_averse 1194.058072090149 seconds\n",
      "Finished with 1000 simulations for klinokinesis_averse 1089.7060251235962 seconds\n",
      "Finished with 1000 simulations for chemotaxis_averse_1 1209.1246285438538 seconds\n",
      "Finished with 1000 simulations for chemotaxis 10 662.1862466335297 seconds\n",
      "Finished with 1000 simulations for chemotaxis_averse 10 1203.603283882141 seconds\n",
      "Finished with 1000 simulations for chemotaxis 0.1 62.80461835861206 seconds\n",
      "Finished with 1000 simulations for chemotaxis_averse 0.1 1225.314029932022 seconds\n",
      "Finished with 1000 simulations for chemotaxis 0.01 52.03966307640076 seconds\n",
      "Finished with 1000 simulations for chemotaxis_averse 0.01 1209.4392983913422 seconds\n",
      "--- All simulations finished ---\n"
     ]
    }
   ],
   "source": [
    "df = pd.read_csv(\"./data/trajectories/summary/modeling_Starved_acclimate_all_animals.csv\")\n",
    "anglelist = df[\"angle_delta\"].dropna().values\n",
    "speedlist = df[\"speed_mm_s\"].dropna().values\n",
    "speedlist = [x/2 for x in speedlist] # Convert from mm/s to mm/frame\n",
    "\n",
    "print(\"Mean angle delta:\", round(np.mean(anglelist), 2))\n",
    "print(\"Mean speed (mm/f):\", round(np.mean(speedlist), 2))\n",
    "\n",
    "for key, item in funcs.items(): \n",
    "    savename = \"./data/simulation_results/\"+str(n_trials)+\"_simulations_\"+item+\"_starved.csv\"\n",
    "    A.run_simulations(n_trials, widths, savename, speedlist, anglelist, key, sensitivity=s_default)\n",
    "    elapsed = ti.time()-t0\n",
    "    t0 = ti.time()\n",
    "    print(\"Finished with\", n_trials, \"simulations for\", item, str(elapsed), \"seconds\")\n",
    "               \n",
    "if sense_analysis == True: \n",
    "    for s in sensitivities: \n",
    "        for key, item in chem_funcs.items(): \n",
    "            savename = \"./data/simulation_results/\"+str(n_trials)+\"_simulations_\"+item+\"_\"+str(s).replace(\".\", \"-\")+\"_starved.csv\"\n",
    "            A.run_simulations(n_trials, widths, savename, speedlist, anglelist, key, sensitivity=s)\n",
    "            elapsed = ti.time()-t0\n",
    "            t0 = ti.time()\n",
    "            print(\"Finished with\", n_trials, \"simulations for\", item, str(s), str(elapsed), \"seconds\")\n",
    "\n",
    "print(\"--- All simulations finished ---\")"
   ]
  },
  {
   "cell_type": "markdown",
   "metadata": {},
   "source": [
    "- Run simulation tasks using empirical data from fed animals"
   ]
  },
  {
   "cell_type": "code",
   "execution_count": 4,
   "metadata": {},
   "outputs": [
    {
     "name": "stdout",
     "output_type": "stream",
     "text": [
      "Mean angle delta: 0.29\n",
      "Mean speed (mm/f): 1.14\n",
      "Finished with 1000 simulations for orthokinesis 6054.06346821785 seconds\n",
      "Finished with 1000 simulations for klinokinesis 588.7465467453003 seconds\n",
      "Finished with 1000 simulations for chemotaxis_1 250.4262866973877 seconds\n",
      "Finished with 1000 simulations for anosmic 589.919319152832 seconds\n",
      "Finished with 1000 simulations for anosmic_averse 943.6886990070343 seconds\n",
      "Finished with 1000 simulations for orthokinesis_averse 1361.8700602054596 seconds\n",
      "Finished with 1000 simulations for klinokinesis_averse 1080.4994645118713 seconds\n",
      "Finished with 1000 simulations for chemotaxis_averse_1 1203.700186252594 seconds\n",
      "Finished with 1000 simulations for chemotaxis 10 774.0615727901459 seconds\n",
      "Finished with 1000 simulations for chemotaxis_averse 10 1189.8893384933472 seconds\n",
      "Finished with 1000 simulations for chemotaxis 0.1 91.35535764694214 seconds\n",
      "Finished with 1000 simulations for chemotaxis_averse 0.1 1204.5513143539429 seconds\n",
      "Finished with 1000 simulations for chemotaxis 0.01 65.92668223381042 seconds\n",
      "Finished with 1000 simulations for chemotaxis_averse 0.01 1185.0503005981445 seconds\n",
      "--- All simulations finished ---\n"
     ]
    }
   ],
   "source": [
    "df = pd.read_csv(\"./data/trajectories/summary/modeling_Fed_acclimate_all_animals.csv\")\n",
    "anglelist = df[\"angle_delta\"].dropna().values\n",
    "speedlist = df[\"speed_mm_s\"].dropna().values\n",
    "speedlist = [x/2 for x in speedlist] # Convert from mm/s to mm/frame\n",
    "\n",
    "print(\"Mean angle delta:\", round(np.mean(anglelist), 2))\n",
    "print(\"Mean speed (mm/f):\", round(np.mean(speedlist), 2))\n",
    "\n",
    "for key, item in funcs.items(): \n",
    "    savename = \"./data/simulation_results/\"+str(n_trials)+\"_simulations_\"+item+\"_fed.csv\"\n",
    "    A.run_simulations(n_trials, widths, savename, speedlist, anglelist, key, sensitivity=s_default)\n",
    "    elapsed = ti.time()-t0\n",
    "    t0 = ti.time()\n",
    "    print(\"Finished with\", n_trials, \"simulations for\", item, str(elapsed), \"seconds\")\n",
    "\n",
    "if sense_analysis == True: \n",
    "    for s in sensitivities: \n",
    "        for key, item in chem_funcs.items(): \n",
    "            savename = \"./data/simulation_results/\"+str(n_trials)+\"_simulations_\"+item+\"_\"+str(s).replace(\".\", \"-\")+\"_fed.csv\"\n",
    "            A.run_simulations(n_trials, widths, savename, speedlist, anglelist, key, sensitivity=s)\n",
    "            elapsed = ti.time()-t0\n",
    "            t0 = ti.time()\n",
    "            print(\"Finished with\", n_trials, \"simulations for\", item, str(s), str(elapsed), \"seconds\")\n",
    "        \n",
    "print(\"--- All simulations finished ---\")"
   ]
  },
  {
   "cell_type": "code",
   "execution_count": null,
   "metadata": {
    "collapsed": true
   },
   "outputs": [],
   "source": []
  }
 ],
 "metadata": {
  "kernelspec": {
   "display_name": "Python 3",
   "language": "python",
   "name": "python3"
  },
  "language_info": {
   "codemirror_mode": {
    "name": "ipython",
    "version": 3
   },
   "file_extension": ".py",
   "mimetype": "text/x-python",
   "name": "python",
   "nbconvert_exporter": "python",
   "pygments_lexer": "ipython3",
   "version": "3.7.1"
  }
 },
 "nbformat": 4,
 "nbformat_minor": 2
}
